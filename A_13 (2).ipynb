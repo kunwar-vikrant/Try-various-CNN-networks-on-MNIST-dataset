{
 "cells": [
  {
   "cell_type": "code",
   "execution_count": 1,
   "metadata": {
    "colab": {
     "base_uri": "https://localhost:8080/",
     "height": 34
    },
    "colab_type": "code",
    "id": "23yILNSHSu4l",
    "outputId": "4555073e-94e5-42bb-e8d7-3ae85c78e864"
   },
   "outputs": [
    {
     "name": "stderr",
     "output_type": "stream",
     "text": [
      "Using TensorFlow backend.\n"
     ]
    }
   ],
   "source": [
    "import matplotlib.pyplot as plt\n",
    "from keras.utils import np_utils \n",
    "from keras.datasets import mnist \n",
    "from keras.models import Sequential\n",
    "from keras.layers import Dense, Dropout, Flatten\n",
    "from keras.layers import Conv2D, MaxPooling2D\n",
    "from keras.layers.normalization import BatchNormalization\n",
    "\n",
    "import seaborn as sns\n",
    "import numpy as np\n",
    "import keras\n",
    "\n",
    "\n",
    "%matplotlib inline\n"
   ]
  },
  {
   "cell_type": "code",
   "execution_count": 2,
   "metadata": {
    "colab": {
     "base_uri": "https://localhost:8080/",
     "height": 50
    },
    "colab_type": "code",
    "id": "VQmBCRe_Tred",
    "outputId": "bb38a17b-3df3-4e1d-8998-54c96d25d143"
   },
   "outputs": [
    {
     "name": "stdout",
     "output_type": "stream",
     "text": [
      "Downloading data from https://s3.amazonaws.com/img-datasets/mnist.npz\n",
      "11493376/11490434 [==============================] - 0s 0us/step\n"
     ]
    }
   ],
   "source": [
    "(X_train, y_train), (X_test, y_test) = mnist.load_data()\n",
    "\n",
    "img_rows, img_cols = 28, 28\n"
   ]
  },
  {
   "cell_type": "code",
   "execution_count": 3,
   "metadata": {
    "colab": {
     "base_uri": "https://localhost:8080/",
     "height": 84
    },
    "colab_type": "code",
    "id": "qCXRCMIxU_Ec",
    "outputId": "9b8eb255-46ad-4f49-8907-a57c7303ea46"
   },
   "outputs": [
    {
     "name": "stdout",
     "output_type": "stream",
     "text": [
      "Training data shape:  (60000, 28, 28)\n",
      "Test data shape (10000, 28, 28)\n",
      "Training label shape:  (60000,)\n",
      "First 5 training labels:  [5 0 4 1 9]\n"
     ]
    }
   ],
   "source": [
    "print(\"Training data shape: \", X_train.shape) # (60000, 28, 28) -- 60000 images, each 28x28 pixels\n",
    "print(\"Test data shape\", X_test.shape)\n",
    "\n",
    "print(\"Training label shape: \", y_train.shape) # (60000,) -- 60000 numbers (all 0-9)\n",
    "print(\"First 5 training labels: \", y_train[:5]) # [5, 0, 4, 1, 9]"
   ]
  },
  {
   "cell_type": "code",
   "execution_count": 0,
   "metadata": {
    "colab": {},
    "colab_type": "code",
    "id": "E6Gl3A3Y_Ry5"
   },
   "outputs": [],
   "source": [
    "num_classes = 10\n",
    "batch_size = 128\n",
    "nb_epoch = 10"
   ]
  },
  {
   "cell_type": "code",
   "execution_count": 5,
   "metadata": {
    "colab": {
     "base_uri": "https://localhost:8080/",
     "height": 67
    },
    "colab_type": "code",
    "id": "cpbEx7wm6U45",
    "outputId": "4f443fc8-e3da-47f3-c56e-e106107a754f"
   },
   "outputs": [
    {
     "name": "stdout",
     "output_type": "stream",
     "text": [
      "x_train shape: (60000, 28, 28, 1)\n",
      "60000 train samples\n",
      "10000 test samples\n"
     ]
    }
   ],
   "source": [
    "from keras import backend as K\n",
    "\n",
    "if K.image_data_format() == 'channels_first':\n",
    "    X_train = X_train.reshape(X_train.shape[0], 1, img_rows, img_cols)\n",
    "    X_test = X_test.reshape(X_test.shape[0], 1, img_rows, img_cols)\n",
    "    input_shape = (1, img_rows, img_cols)\n",
    "else:\n",
    "    X_train = X_train.reshape(X_train.shape[0], img_rows, img_cols, 1)\n",
    "    X_test = X_test.reshape(X_test.shape[0], img_rows, img_cols, 1)\n",
    "    input_shape = (img_rows, img_cols, 1)\n",
    "\n",
    "X_train = X_train.astype('float32')\n",
    "X_test = X_test.astype('float32')\n",
    "X_train /= 255\n",
    "X_test /= 255\n",
    "print('x_train shape:', X_train.shape)\n",
    "print(X_train.shape[0], 'train samples')\n",
    "print(X_test.shape[0], 'test samples')\n",
    "\n"
   ]
  },
  {
   "cell_type": "code",
   "execution_count": 0,
   "metadata": {
    "colab": {},
    "colab_type": "code",
    "id": "UecI_gKDAwbY"
   },
   "outputs": [],
   "source": [
    "# convert class vectors to binary class matrices\n",
    "y_train = keras.utils.to_categorical(y_train, num_classes)\n",
    "y_test = keras.utils.to_categorical(y_test, num_classes)"
   ]
  },
  {
   "cell_type": "code",
   "execution_count": 7,
   "metadata": {
    "colab": {
     "base_uri": "https://localhost:8080/",
     "height": 34
    },
    "colab_type": "code",
    "id": "_uTfINkq6a2u",
    "outputId": "fbca4077-3f1c-43d7-c561-de56f95a654b"
   },
   "outputs": [
    {
     "data": {
      "text/plain": [
       "(60000, 10)"
      ]
     },
     "execution_count": 7,
     "metadata": {
      "tags": []
     },
     "output_type": "execute_result"
    }
   ],
   "source": [
    "y_train.shape"
   ]
  },
  {
   "cell_type": "markdown",
   "metadata": {
    "colab_type": "text",
    "id": "n8PAzq4e7sYJ"
   },
   "source": [
    "### 4 layer CNN Model with 3*3 kernel size"
   ]
  },
  {
   "cell_type": "code",
   "execution_count": 0,
   "metadata": {
    "colab": {
     "base_uri": "https://localhost:8080/",
     "height": 675
    },
    "colab_type": "code",
    "id": "spBxSetZ7yxm",
    "outputId": "7eeaef0c-cb25-4d58-98ee-a328a2cf75af"
   },
   "outputs": [
    {
     "name": "stdout",
     "output_type": "stream",
     "text": [
      "WARNING:tensorflow:From /usr/local/lib/python3.6/dist-packages/tensorflow/python/framework/op_def_library.py:263: colocate_with (from tensorflow.python.framework.ops) is deprecated and will be removed in a future version.\n",
      "Instructions for updating:\n",
      "Colocations handled automatically by placer.\n",
      "WARNING:tensorflow:From /usr/local/lib/python3.6/dist-packages/keras/backend/tensorflow_backend.py:3445: calling dropout (from tensorflow.python.ops.nn_ops) with keep_prob is deprecated and will be removed in a future version.\n",
      "Instructions for updating:\n",
      "Please use `rate` instead of `keep_prob`. Rate should be set to `rate = 1 - keep_prob`.\n",
      "_________________________________________________________________\n",
      "Layer (type)                 Output Shape              Param #   \n",
      "=================================================================\n",
      "conv2d_1 (Conv2D)            (None, 26, 26, 32)        320       \n",
      "_________________________________________________________________\n",
      "conv2d_2 (Conv2D)            (None, 24, 24, 64)        18496     \n",
      "_________________________________________________________________\n",
      "max_pooling2d_1 (MaxPooling2 (None, 12, 12, 64)        0         \n",
      "_________________________________________________________________\n",
      "dropout_1 (Dropout)          (None, 12, 12, 64)        0         \n",
      "_________________________________________________________________\n",
      "conv2d_3 (Conv2D)            (None, 10, 10, 128)       73856     \n",
      "_________________________________________________________________\n",
      "batch_normalization_1 (Batch (None, 10, 10, 128)       512       \n",
      "_________________________________________________________________\n",
      "max_pooling2d_2 (MaxPooling2 (None, 5, 5, 128)         0         \n",
      "_________________________________________________________________\n",
      "dropout_2 (Dropout)          (None, 5, 5, 128)         0         \n",
      "_________________________________________________________________\n",
      "flatten_1 (Flatten)          (None, 3200)              0         \n",
      "_________________________________________________________________\n",
      "dense_1 (Dense)              (None, 256)               819456    \n",
      "_________________________________________________________________\n",
      "dropout_3 (Dropout)          (None, 256)               0         \n",
      "_________________________________________________________________\n",
      "dense_2 (Dense)              (None, 10)                2570      \n",
      "=================================================================\n",
      "Total params: 915,210\n",
      "Trainable params: 914,954\n",
      "Non-trainable params: 256\n",
      "_________________________________________________________________\n",
      "None\n"
     ]
    }
   ],
   "source": [
    "model1=Sequential() # Initializing the model\n",
    "\n",
    "# First ConvNet\n",
    "model1.add(Conv2D(32,kernel_size=(3,3),\n",
    "                    activation='relu',\n",
    "                    input_shape=input_shape))\n",
    "\n",
    "model1.add(Conv2D(64,kernel_size=(3,3),\n",
    "                    activation='relu'))\n",
    "\n",
    "\n",
    "model1.add(MaxPooling2D(pool_size=(2,2)))\n",
    "model1.add(Dropout(0.2))\n",
    "\n",
    "model1.add(Conv2D(128,kernel_size=(3,3),\n",
    "                   activation='relu'))\n",
    "\n",
    "model1.add(BatchNormalization())\n",
    "\n",
    "#maxpooling by (2,2 ) ,dropout,flattening\n",
    "model1.add(MaxPooling2D(pool_size=(2,2)))\n",
    "\n",
    "model1.add(Dropout(0.5))\n",
    "\n",
    "\n",
    "model1.add(Flatten())\n",
    "\n",
    "#hidden_layer\n",
    "model1.add(Dense(256,activation='relu',kernel_initializer='random_uniform'))\n",
    "\n",
    "model1.add(Dropout(0.5))\n",
    "\n",
    "model1.add(Dense(num_classes,activation='softmax'))\n",
    "\n",
    "print(model1.summary())"
   ]
  },
  {
   "cell_type": "code",
   "execution_count": 0,
   "metadata": {
    "colab": {},
    "colab_type": "code",
    "id": "Rj81M-mF9b-x"
   },
   "outputs": [],
   "source": [
    "model1.compile(optimizer='adam', \n",
    "               loss='categorical_crossentropy',\n",
    "               metrics=['accuracy'])\n"
   ]
  },
  {
   "cell_type": "code",
   "execution_count": 0,
   "metadata": {
    "colab": {
     "base_uri": "https://localhost:8080/",
     "height": 370
    },
    "colab_type": "code",
    "id": "yJDRteRZ-TGm",
    "outputId": "eaf87a77-0746-4bde-86f1-38712aef74a3"
   },
   "outputs": [
    {
     "name": "stdout",
     "output_type": "stream",
     "text": [
      "Train on 60000 samples, validate on 10000 samples\n",
      "Epoch 1/10\n",
      "60000/60000 [==============================] - 275s 5ms/step - loss: 0.0499 - acc: 0.9848 - val_loss: 0.0229 - val_acc: 0.9927\n",
      "Epoch 2/10\n",
      "60000/60000 [==============================] - 294s 5ms/step - loss: 0.0443 - acc: 0.9868 - val_loss: 0.0293 - val_acc: 0.9911\n",
      "Epoch 3/10\n",
      "60000/60000 [==============================] - 283s 5ms/step - loss: 0.0430 - acc: 0.9869 - val_loss: 0.0262 - val_acc: 0.9930\n",
      "Epoch 4/10\n",
      "60000/60000 [==============================] - 290s 5ms/step - loss: 0.0385 - acc: 0.9881 - val_loss: 0.0218 - val_acc: 0.9939\n",
      "Epoch 5/10\n",
      "60000/60000 [==============================] - 276s 5ms/step - loss: 0.0401 - acc: 0.9881 - val_loss: 0.0211 - val_acc: 0.9930\n",
      "Epoch 6/10\n",
      "60000/60000 [==============================] - 281s 5ms/step - loss: 0.0363 - acc: 0.9891 - val_loss: 0.0265 - val_acc: 0.9933\n",
      "Epoch 7/10\n",
      "60000/60000 [==============================] - 284s 5ms/step - loss: 0.0373 - acc: 0.9890 - val_loss: 0.0205 - val_acc: 0.9942\n",
      "Epoch 8/10\n",
      "60000/60000 [==============================] - 287s 5ms/step - loss: 0.0343 - acc: 0.9902 - val_loss: 0.0210 - val_acc: 0.9942\n",
      "Epoch 9/10\n",
      "60000/60000 [==============================] - 279s 5ms/step - loss: 0.0333 - acc: 0.9901 - val_loss: 0.0213 - val_acc: 0.9939\n",
      "Epoch 10/10\n",
      "60000/60000 [==============================] - 275s 5ms/step - loss: 0.0341 - acc: 0.9899 - val_loss: 0.0236 - val_acc: 0.9934\n"
     ]
    }
   ],
   "source": [
    "# Training the model\n",
    "history = model1.fit(X_train, y_train, batch_size = batch_size, epochs=nb_epoch, verbose=1, validation_data=(X_test, y_test))"
   ]
  },
  {
   "cell_type": "code",
   "execution_count": 0,
   "metadata": {
    "colab": {},
    "colab_type": "code",
    "id": "luAMB7PUC4Bh"
   },
   "outputs": [],
   "source": []
  },
  {
   "cell_type": "code",
   "execution_count": 0,
   "metadata": {
    "colab": {
     "base_uri": "https://localhost:8080/",
     "height": 67
    },
    "colab_type": "code",
    "id": "k2ZWm5yJC4JE",
    "outputId": "5c6b038e-ad62-427c-82a2-dd9dbbf5715c"
   },
   "outputs": [
    {
     "name": "stdout",
     "output_type": "stream",
     "text": [
      "10000/10000 [==============================] - 12s 1ms/step\n",
      "Test loss: 0.023638954546318383\n",
      "Test accuracy: 0.9934\n"
     ]
    }
   ],
   "source": [
    "score = model1.evaluate(X_test, y_test, verbose=1)\n",
    "print('Test loss:', score[0]) \n",
    "print('Test accuracy:', score[1])"
   ]
  },
  {
   "cell_type": "code",
   "execution_count": 0,
   "metadata": {
    "colab": {
     "base_uri": "https://localhost:8080/",
     "height": 283
    },
    "colab_type": "code",
    "id": "wHtw58r1C4L8",
    "outputId": "321fd77f-6ba5-4a9e-eb8c-78dbe2013f3e"
   },
   "outputs": [
    {
     "data": {
      "image/png": "[encoded data removed]",
      "text/plain": [
       "<Figure size 432x288 with 1 Axes>"
      ]
     },
     "metadata": {
      "tags": []
     },
     "output_type": "display_data"
    }
   ],
   "source": [
    "fig,ax = plt.subplots(1,1)\n",
    "ax.set_xlabel('Epochs') ; ax.set_ylabel('Loss')\n",
    "\n",
    "# list of epoch numbers\n",
    "list_of_epoch = list(range(1,nb_epoch+1))\n",
    "\n",
    "train_loss = history.history['loss']\n",
    "val_loss = history.history['val_loss']\n",
    "\n",
    "ax.plot(list_of_epoch, val_loss, 'g', label=\"Validation Loss\")\n",
    "ax.plot(list_of_epoch, train_loss, 'r', label=\"Training Loss\")\n",
    "plt.legend()\n",
    "plt.grid()\n",
    "plt.show();"
   ]
  },
  {
   "cell_type": "markdown",
   "metadata": {
    "colab_type": "text",
    "id": "1GwkbmwmMgz5"
   },
   "source": [
    "### Changing the dropout rate to 0.8"
   ]
  },
  {
   "cell_type": "code",
   "execution_count": 51,
   "metadata": {
    "colab": {
     "base_uri": "https://localhost:8080/",
     "height": 554
    },
    "colab_type": "code",
    "id": "ap9DKZcrMe_1",
    "outputId": "8c61386e-7333-4aa2-b40c-4a285124e79c"
   },
   "outputs": [
    {
     "name": "stdout",
     "output_type": "stream",
     "text": [
      "_________________________________________________________________\n",
      "Layer (type)                 Output Shape              Param #   \n",
      "=================================================================\n",
      "conv2d_26 (Conv2D)           (None, 26, 26, 32)        320       \n",
      "_________________________________________________________________\n",
      "conv2d_27 (Conv2D)           (None, 24, 24, 64)        18496     \n",
      "_________________________________________________________________\n",
      "max_pooling2d_15 (MaxPooling (None, 12, 12, 64)        0         \n",
      "_________________________________________________________________\n",
      "dropout_22 (Dropout)         (None, 12, 12, 64)        0         \n",
      "_________________________________________________________________\n",
      "conv2d_28 (Conv2D)           (None, 10, 10, 128)       73856     \n",
      "_________________________________________________________________\n",
      "batch_normalization_8 (Batch (None, 10, 10, 128)       512       \n",
      "_________________________________________________________________\n",
      "max_pooling2d_16 (MaxPooling (None, 5, 5, 128)         0         \n",
      "_________________________________________________________________\n",
      "dropout_23 (Dropout)         (None, 5, 5, 128)         0         \n",
      "_________________________________________________________________\n",
      "flatten_10 (Flatten)         (None, 3200)              0         \n",
      "_________________________________________________________________\n",
      "dense_21 (Dense)             (None, 256)               819456    \n",
      "_________________________________________________________________\n",
      "dropout_24 (Dropout)         (None, 256)               0         \n",
      "_________________________________________________________________\n",
      "dense_22 (Dense)             (None, 10)                2570      \n",
      "=================================================================\n",
      "Total params: 915,210\n",
      "Trainable params: 914,954\n",
      "Non-trainable params: 256\n",
      "_________________________________________________________________\n",
      "None\n"
     ]
    }
   ],
   "source": [
    "model1=Sequential() # Initializing the model\n",
    "\n",
    "# First ConvNet\n",
    "model1.add(Conv2D(32,kernel_size=(3,3),\n",
    "                    activation='relu',\n",
    "                    input_shape=input_shape))\n",
    "\n",
    "model1.add(Conv2D(64,kernel_size=(3,3),\n",
    "                    activation='relu'))\n",
    "\n",
    "\n",
    "model1.add(MaxPooling2D(pool_size=(2,2)))\n",
    "model1.add(Dropout(0.8))\n",
    "\n",
    "model1.add(Conv2D(128,kernel_size=(3,3),\n",
    "                   activation='relu'))\n",
    "\n",
    "model1.add(BatchNormalization())\n",
    "\n",
    "#maxpooling by (2,2 ) ,dropout,flattening\n",
    "model1.add(MaxPooling2D(pool_size=(2,2)))\n",
    "\n",
    "model1.add(Dropout(0.8))\n",
    "\n",
    "\n",
    "model1.add(Flatten())\n",
    "\n",
    "#hidden_layer\n",
    "model1.add(Dense(256,activation='relu',kernel_initializer='random_uniform'))\n",
    "\n",
    "model1.add(Dropout(0.8))\n",
    "\n",
    "model1.add(Dense(num_classes,activation='softmax'))\n",
    "\n",
    "print(model1.summary())"
   ]
  },
  {
   "cell_type": "code",
   "execution_count": 0,
   "metadata": {
    "colab": {},
    "colab_type": "code",
    "id": "l-yNI0nXMe_9"
   },
   "outputs": [],
   "source": [
    "model1.compile(optimizer='adam', \n",
    "               loss='categorical_crossentropy',\n",
    "               metrics=['accuracy'])\n"
   ]
  },
  {
   "cell_type": "code",
   "execution_count": 53,
   "metadata": {
    "colab": {
     "base_uri": "https://localhost:8080/",
     "height": 370
    },
    "colab_type": "code",
    "id": "MuYUjMhzMfAC",
    "outputId": "a4cec22f-3f01-437b-d517-32a5ea220c2e"
   },
   "outputs": [
    {
     "name": "stdout",
     "output_type": "stream",
     "text": [
      "Train on 60000 samples, validate on 10000 samples\n",
      "Epoch 1/10\n",
      "60000/60000 [==============================] - 8s 131us/step - loss: 1.7834 - acc: 0.5106 - val_loss: 0.6643 - val_acc: 0.8093\n",
      "Epoch 2/10\n",
      "60000/60000 [==============================] - 6s 98us/step - loss: 0.6437 - acc: 0.7938 - val_loss: 0.4694 - val_acc: 0.8699\n",
      "Epoch 3/10\n",
      "60000/60000 [==============================] - 6s 98us/step - loss: 0.4384 - acc: 0.8653 - val_loss: 0.1793 - val_acc: 0.9469\n",
      "Epoch 4/10\n",
      "60000/60000 [==============================] - 6s 98us/step - loss: 0.3536 - acc: 0.8937 - val_loss: 0.2200 - val_acc: 0.9374\n",
      "Epoch 5/10\n",
      "60000/60000 [==============================] - 6s 98us/step - loss: 0.3079 - acc: 0.9092 - val_loss: 0.1993 - val_acc: 0.9475\n",
      "Epoch 6/10\n",
      "60000/60000 [==============================] - 6s 98us/step - loss: 0.2859 - acc: 0.9165 - val_loss: 0.2217 - val_acc: 0.9411\n",
      "Epoch 7/10\n",
      "60000/60000 [==============================] - 6s 98us/step - loss: 0.2697 - acc: 0.9222 - val_loss: 0.3407 - val_acc: 0.9173\n",
      "Epoch 8/10\n",
      "60000/60000 [==============================] - 6s 97us/step - loss: 0.2553 - acc: 0.9270 - val_loss: 0.1266 - val_acc: 0.9673\n",
      "Epoch 9/10\n",
      "60000/60000 [==============================] - 6s 99us/step - loss: 0.2432 - acc: 0.9292 - val_loss: 0.1786 - val_acc: 0.9558\n",
      "Epoch 10/10\n",
      "60000/60000 [==============================] - 6s 99us/step - loss: 0.2350 - acc: 0.9317 - val_loss: 0.1224 - val_acc: 0.9697\n"
     ]
    }
   ],
   "source": [
    "# Training the model\n",
    "history = model1.fit(X_train, y_train, batch_size = batch_size, epochs=nb_epoch, verbose=1, validation_data=(X_test, y_test))"
   ]
  },
  {
   "cell_type": "code",
   "execution_count": 54,
   "metadata": {
    "colab": {
     "base_uri": "https://localhost:8080/",
     "height": 67
    },
    "colab_type": "code",
    "id": "Q3begfY_MfAP",
    "outputId": "5cf1fad7-3290-46e2-93c0-4106417203f1"
   },
   "outputs": [
    {
     "name": "stdout",
     "output_type": "stream",
     "text": [
      "10000/10000 [==============================] - 1s 70us/step\n",
      "Test loss: 0.122405351941369\n",
      "Test accuracy: 0.9697\n"
     ]
    }
   ],
   "source": [
    "score = model1.evaluate(X_test, y_test, verbose=1)\n",
    "print('Test loss:', score[0]) \n",
    "print('Test accuracy:', score[1])"
   ]
  },
  {
   "cell_type": "code",
   "execution_count": 55,
   "metadata": {
    "colab": {
     "base_uri": "https://localhost:8080/",
     "height": 283
    },
    "colab_type": "code",
    "id": "VCHVjTtkMfAX",
    "outputId": "0648302f-482e-4a87-cc60-621c7268e6c3"
   },
   "outputs": [
    {
     "data": {
      "image/png": "[encoded data removed]",
      "text/plain": [
       "<Figure size 432x288 with 1 Axes>"
      ]
     },
     "metadata": {
      "tags": []
     },
     "output_type": "display_data"
    }
   ],
   "source": [
    "fig,ax = plt.subplots(1,1)\n",
    "ax.set_xlabel('Epochs') ; ax.set_ylabel('Loss')\n",
    "\n",
    "# list of epoch numbers\n",
    "list_of_epoch = list(range(1,nb_epoch+1))\n",
    "\n",
    "train_loss = history.history['loss']\n",
    "val_loss = history.history['val_loss']\n",
    "\n",
    "ax.plot(list_of_epoch, val_loss, 'g', label=\"Validation Loss\")\n",
    "ax.plot(list_of_epoch, train_loss, 'r', label=\"Training Loss\")\n",
    "plt.legend()\n",
    "plt.grid()\n",
    "plt.show();"
   ]
  },
  {
   "cell_type": "markdown",
   "metadata": {
    "colab_type": "text",
    "id": "_CmB8UrQPZay"
   },
   "source": [
    "### Changing the dropout rate to 0.2"
   ]
  },
  {
   "cell_type": "code",
   "execution_count": 46,
   "metadata": {
    "colab": {
     "base_uri": "https://localhost:8080/",
     "height": 554
    },
    "colab_type": "code",
    "id": "x05wvuQkPhEr",
    "outputId": "2984d680-d9af-44f6-9d20-319d4897b6f3"
   },
   "outputs": [
    {
     "name": "stdout",
     "output_type": "stream",
     "text": [
      "_________________________________________________________________\n",
      "Layer (type)                 Output Shape              Param #   \n",
      "=================================================================\n",
      "conv2d_23 (Conv2D)           (None, 26, 26, 32)        320       \n",
      "_________________________________________________________________\n",
      "conv2d_24 (Conv2D)           (None, 24, 24, 64)        18496     \n",
      "_________________________________________________________________\n",
      "max_pooling2d_13 (MaxPooling (None, 12, 12, 64)        0         \n",
      "_________________________________________________________________\n",
      "dropout_19 (Dropout)         (None, 12, 12, 64)        0         \n",
      "_________________________________________________________________\n",
      "conv2d_25 (Conv2D)           (None, 10, 10, 128)       73856     \n",
      "_________________________________________________________________\n",
      "batch_normalization_7 (Batch (None, 10, 10, 128)       512       \n",
      "_________________________________________________________________\n",
      "max_pooling2d_14 (MaxPooling (None, 5, 5, 128)         0         \n",
      "_________________________________________________________________\n",
      "dropout_20 (Dropout)         (None, 5, 5, 128)         0         \n",
      "_________________________________________________________________\n",
      "flatten_9 (Flatten)          (None, 3200)              0         \n",
      "_________________________________________________________________\n",
      "dense_19 (Dense)             (None, 256)               819456    \n",
      "_________________________________________________________________\n",
      "dropout_21 (Dropout)         (None, 256)               0         \n",
      "_________________________________________________________________\n",
      "dense_20 (Dense)             (None, 10)                2570      \n",
      "=================================================================\n",
      "Total params: 915,210\n",
      "Trainable params: 914,954\n",
      "Non-trainable params: 256\n",
      "_________________________________________________________________\n",
      "None\n"
     ]
    }
   ],
   "source": [
    "model1=Sequential() # Initializing the model\n",
    "\n",
    "# First ConvNet\n",
    "model1.add(Conv2D(32,kernel_size=(3,3),\n",
    "                    activation='relu',\n",
    "                    input_shape=input_shape))\n",
    "\n",
    "model1.add(Conv2D(64,kernel_size=(3,3),\n",
    "                    activation='relu'))\n",
    "\n",
    "\n",
    "model1.add(MaxPooling2D(pool_size=(2,2)))\n",
    "model1.add(Dropout(0.2))\n",
    "\n",
    "model1.add(Conv2D(128,kernel_size=(3,3),\n",
    "                   activation='relu'))\n",
    "\n",
    "model1.add(BatchNormalization())\n",
    "\n",
    "#maxpooling by (2,2 ) ,dropout,flattening\n",
    "model1.add(MaxPooling2D(pool_size=(2,2)))\n",
    "\n",
    "model1.add(Dropout(0.2))\n",
    "\n",
    "\n",
    "model1.add(Flatten())\n",
    "\n",
    "#hidden_layer\n",
    "model1.add(Dense(256,activation='relu',kernel_initializer='random_uniform'))\n",
    "\n",
    "model1.add(Dropout(0.2))\n",
    "\n",
    "model1.add(Dense(num_classes,activation='softmax'))\n",
    "\n",
    "print(model1.summary())"
   ]
  },
  {
   "cell_type": "code",
   "execution_count": 0,
   "metadata": {
    "colab": {},
    "colab_type": "code",
    "id": "7hTBjTx3PhE0"
   },
   "outputs": [],
   "source": [
    "model1.compile(optimizer='adam', \n",
    "               loss='categorical_crossentropy',\n",
    "               metrics=['accuracy'])\n"
   ]
  },
  {
   "cell_type": "code",
   "execution_count": 48,
   "metadata": {
    "colab": {
     "base_uri": "https://localhost:8080/",
     "height": 370
    },
    "colab_type": "code",
    "id": "to8fZ2K8PhE6",
    "outputId": "7c745c8d-114e-44f2-ad81-dcd7f4351cab"
   },
   "outputs": [
    {
     "name": "stdout",
     "output_type": "stream",
     "text": [
      "Train on 60000 samples, validate on 10000 samples\n",
      "Epoch 1/10\n",
      "60000/60000 [==============================] - 8s 127us/step - loss: 0.1425 - acc: 0.9573 - val_loss: 0.0573 - val_acc: 0.9811\n",
      "Epoch 2/10\n",
      "60000/60000 [==============================] - 6s 98us/step - loss: 0.0490 - acc: 0.9850 - val_loss: 0.0386 - val_acc: 0.9876\n",
      "Epoch 3/10\n",
      "60000/60000 [==============================] - 6s 98us/step - loss: 0.0343 - acc: 0.9894 - val_loss: 0.0324 - val_acc: 0.9902\n",
      "Epoch 4/10\n",
      "60000/60000 [==============================] - 6s 99us/step - loss: 0.0280 - acc: 0.9912 - val_loss: 0.0552 - val_acc: 0.9853\n",
      "Epoch 5/10\n",
      "60000/60000 [==============================] - 6s 99us/step - loss: 0.0266 - acc: 0.9915 - val_loss: 0.0349 - val_acc: 0.9895\n",
      "Epoch 6/10\n",
      "60000/60000 [==============================] - 6s 101us/step - loss: 0.0219 - acc: 0.9930 - val_loss: 0.0358 - val_acc: 0.9907\n",
      "Epoch 7/10\n",
      "60000/60000 [==============================] - 6s 99us/step - loss: 0.0209 - acc: 0.9935 - val_loss: 0.0393 - val_acc: 0.9890\n",
      "Epoch 8/10\n",
      "60000/60000 [==============================] - 6s 98us/step - loss: 0.0220 - acc: 0.9933 - val_loss: 0.0257 - val_acc: 0.9932\n",
      "Epoch 9/10\n",
      "60000/60000 [==============================] - 6s 98us/step - loss: 0.0158 - acc: 0.9953 - val_loss: 0.0292 - val_acc: 0.9921\n",
      "Epoch 10/10\n",
      "60000/60000 [==============================] - 6s 98us/step - loss: 0.0201 - acc: 0.9938 - val_loss: 0.0736 - val_acc: 0.9802\n"
     ]
    }
   ],
   "source": [
    "# Training the model\n",
    "history = model1.fit(X_train, y_train, batch_size = batch_size, epochs=nb_epoch, verbose=1, validation_data=(X_test, y_test))"
   ]
  },
  {
   "cell_type": "code",
   "execution_count": 49,
   "metadata": {
    "colab": {
     "base_uri": "https://localhost:8080/",
     "height": 67
    },
    "colab_type": "code",
    "id": "5isYN_RoPhFD",
    "outputId": "9cae8908-6f5d-4e1a-b3df-a065aafe080a"
   },
   "outputs": [
    {
     "name": "stdout",
     "output_type": "stream",
     "text": [
      "10000/10000 [==============================] - 1s 70us/step\n",
      "Test loss: 0.07362920074305221\n",
      "Test accuracy: 0.9802\n"
     ]
    }
   ],
   "source": [
    "score = model1.evaluate(X_test, y_test, verbose=1)\n",
    "print('Test loss:', score[0]) \n",
    "print('Test accuracy:', score[1])"
   ]
  },
  {
   "cell_type": "code",
   "execution_count": 50,
   "metadata": {
    "colab": {
     "base_uri": "https://localhost:8080/",
     "height": 283
    },
    "colab_type": "code",
    "id": "5HZA3tHOPhFK",
    "outputId": "160e82c9-06fc-492e-a37e-17c3a07959f2"
   },
   "outputs": [
    {
     "data": {
      "image/png": "[encoded data removed]",
      "text/plain": [
       "<Figure size 432x288 with 1 Axes>"
      ]
     },
     "metadata": {
      "tags": []
     },
     "output_type": "display_data"
    }
   ],
   "source": [
    "fig,ax = plt.subplots(1,1)\n",
    "ax.set_xlabel('Epochs') ; ax.set_ylabel('Loss')\n",
    "\n",
    "# list of epoch numbers\n",
    "list_of_epoch = list(range(1,nb_epoch+1))\n",
    "\n",
    "train_loss = history.history['loss']\n",
    "val_loss = history.history['val_loss']\n",
    "\n",
    "ax.plot(list_of_epoch, val_loss, 'g', label=\"Validation Loss\")\n",
    "ax.plot(list_of_epoch, train_loss, 'r', label=\"Training Loss\")\n",
    "plt.legend()\n",
    "plt.grid()\n",
    "plt.show();"
   ]
  },
  {
   "cell_type": "markdown",
   "metadata": {
    "colab_type": "text",
    "id": "ev6Fl0HDDNln"
   },
   "source": [
    "### 4 Convolution layers with 5*5 kernel size"
   ]
  },
  {
   "cell_type": "code",
   "execution_count": 0,
   "metadata": {
    "colab": {
     "base_uri": "https://localhost:8080/",
     "height": 561
    },
    "colab_type": "code",
    "id": "QXpIrkT7DR9h",
    "outputId": "a13490c5-e1ed-4f42-f690-04516cab33dd"
   },
   "outputs": [
    {
     "name": "stdout",
     "output_type": "stream",
     "text": [
      "_________________________________________________________________\n",
      "Layer (type)                 Output Shape              Param #   \n",
      "=================================================================\n",
      "conv2d_20 (Conv2D)           (None, 24, 24, 32)        832       \n",
      "_________________________________________________________________\n",
      "conv2d_21 (Conv2D)           (None, 20, 20, 64)        51264     \n",
      "_________________________________________________________________\n",
      "max_pooling2d_12 (MaxPooling (None, 10, 10, 64)        0         \n",
      "_________________________________________________________________\n",
      "dropout_9 (Dropout)          (None, 10, 10, 64)        0         \n",
      "_________________________________________________________________\n",
      "conv2d_22 (Conv2D)           (None, 6, 6, 128)         204928    \n",
      "_________________________________________________________________\n",
      "batch_normalization_5 (Batch (None, 6, 6, 128)         512       \n",
      "_________________________________________________________________\n",
      "max_pooling2d_13 (MaxPooling (None, 3, 3, 128)         0         \n",
      "_________________________________________________________________\n",
      "dropout_10 (Dropout)         (None, 3, 3, 128)         0         \n",
      "_________________________________________________________________\n",
      "flatten_4 (Flatten)          (None, 1152)              0         \n",
      "_________________________________________________________________\n",
      "dense_7 (Dense)              (None, 256)               295168    \n",
      "_________________________________________________________________\n",
      "dropout_11 (Dropout)         (None, 256)               0         \n",
      "_________________________________________________________________\n",
      "dense_8 (Dense)              (None, 10)                2570      \n",
      "=================================================================\n",
      "Total params: 555,274\n",
      "Trainable params: 555,018\n",
      "Non-trainable params: 256\n",
      "_________________________________________________________________\n",
      "None\n"
     ]
    }
   ],
   "source": [
    "model2=Sequential() # Initializing the model\n",
    "\n",
    "# First ConvNet\n",
    "model2.add(Conv2D(32,kernel_size=(5,5),\n",
    "                    activation='relu',\n",
    "                    input_shape=input_shape))\n",
    "\n",
    "model2.add(Conv2D(64,kernel_size=(5,5),\n",
    "                    activation='relu'))\n",
    "\n",
    "\n",
    "model2.add(MaxPooling2D(pool_size=(2,2)))\n",
    "model2.add(Dropout(0.2))\n",
    "\n",
    "model2.add(Conv2D(128,kernel_size=(5,5),\n",
    "                   activation='relu'))\n",
    "\n",
    "model2.add(BatchNormalization())\n",
    "\n",
    "model2.add(MaxPooling2D(pool_size=(2,2)))\n",
    "\n",
    "model2.add(Dropout(0.5))\n",
    "\n",
    "\n",
    "model2.add(Flatten())\n",
    "\n",
    "#hidden layer\n",
    "model2.add(Dense(256,activation='relu',kernel_initializer='random_uniform'))\n",
    "\n",
    "model2.add(Dropout(0.5))\n",
    "\n",
    "model2.add(Dense(num_classes,activation='softmax'))\n",
    "\n",
    "print(model2.summary())"
   ]
  },
  {
   "cell_type": "code",
   "execution_count": 0,
   "metadata": {
    "colab": {},
    "colab_type": "code",
    "id": "d2yDamVhDfP2"
   },
   "outputs": [],
   "source": [
    "model2.compile(optimizer='adam', \n",
    "               loss='categorical_crossentropy',\n",
    "               metrics=['accuracy'])\n"
   ]
  },
  {
   "cell_type": "code",
   "execution_count": 0,
   "metadata": {
    "colab": {
     "base_uri": "https://localhost:8080/",
     "height": 440
    },
    "colab_type": "code",
    "id": "U57EY9KVDiJN",
    "outputId": "22212df6-ef08-425a-8d5e-a898a473d5a7"
   },
   "outputs": [
    {
     "name": "stdout",
     "output_type": "stream",
     "text": [
      "WARNING:tensorflow:From /usr/local/lib/python3.6/dist-packages/tensorflow/python/ops/math_ops.py:3066: to_int32 (from tensorflow.python.ops.math_ops) is deprecated and will be removed in a future version.\n",
      "Instructions for updating:\n",
      "Use tf.cast instead.\n",
      "Train on 60000 samples, validate on 10000 samples\n",
      "Epoch 1/10\n",
      "60000/60000 [==============================] - 9s 155us/step - loss: 0.2036 - acc: 0.9362 - val_loss: 0.0605 - val_acc: 0.9807\n",
      "Epoch 2/10\n",
      "60000/60000 [==============================] - 6s 95us/step - loss: 0.0687 - acc: 0.9794 - val_loss: 0.0341 - val_acc: 0.9894\n",
      "Epoch 3/10\n",
      "60000/60000 [==============================] - 5s 91us/step - loss: 0.0580 - acc: 0.9831 - val_loss: 0.0238 - val_acc: 0.9922\n",
      "Epoch 4/10\n",
      "60000/60000 [==============================] - 5s 91us/step - loss: 0.0487 - acc: 0.9855 - val_loss: 0.0324 - val_acc: 0.9903\n",
      "Epoch 5/10\n",
      "60000/60000 [==============================] - 6s 94us/step - loss: 0.0453 - acc: 0.9861 - val_loss: 0.0254 - val_acc: 0.9918\n",
      "Epoch 6/10\n",
      "60000/60000 [==============================] - 6s 94us/step - loss: 0.0386 - acc: 0.9885 - val_loss: 0.0280 - val_acc: 0.9915\n",
      "Epoch 7/10\n",
      "60000/60000 [==============================] - 5s 91us/step - loss: 0.0359 - acc: 0.9893 - val_loss: 0.0198 - val_acc: 0.9946\n",
      "Epoch 8/10\n",
      "60000/60000 [==============================] - 5s 92us/step - loss: 0.0405 - acc: 0.9884 - val_loss: 0.0211 - val_acc: 0.9945\n",
      "Epoch 9/10\n",
      "60000/60000 [==============================] - 5s 91us/step - loss: 0.0325 - acc: 0.9906 - val_loss: 0.0205 - val_acc: 0.9943\n",
      "Epoch 10/10\n",
      "60000/60000 [==============================] - 5s 92us/step - loss: 0.0299 - acc: 0.9910 - val_loss: 0.0239 - val_acc: 0.9931\n"
     ]
    }
   ],
   "source": [
    "# Training the model\n",
    "history = model2.fit(X_train, y_train, batch_size = batch_size, epochs=nb_epoch, verbose=1, validation_data=(X_test, y_test))"
   ]
  },
  {
   "cell_type": "code",
   "execution_count": 0,
   "metadata": {
    "colab": {
     "base_uri": "https://localhost:8080/",
     "height": 67
    },
    "colab_type": "code",
    "id": "fbF_einyDlZY",
    "outputId": "06250ca9-a58c-440f-a1b8-f89f4421f41f"
   },
   "outputs": [
    {
     "name": "stdout",
     "output_type": "stream",
     "text": [
      "10000/10000 [==============================] - 1s 71us/step\n",
      "Test loss: 0.02391246041604645\n",
      "Test accuracy: 0.9931\n"
     ]
    }
   ],
   "source": [
    "score = model2.evaluate(X_test, y_test, verbose=1)\n",
    "print('Test loss:', score[0]) \n",
    "print('Test accuracy:', score[1]) "
   ]
  },
  {
   "cell_type": "code",
   "execution_count": 0,
   "metadata": {
    "colab": {
     "base_uri": "https://localhost:8080/",
     "height": 283
    },
    "colab_type": "code",
    "id": "0qM6iF05DlZe",
    "outputId": "cb6f2f52-2deb-4b5f-9157-c8db8c7d964b"
   },
   "outputs": [
    {
     "data": {
      "image/png": "[encoded data removed]",
      "text/plain": [
       "<Figure size 432x288 with 1 Axes>"
      ]
     },
     "metadata": {
      "tags": []
     },
     "output_type": "display_data"
    }
   ],
   "source": [
    "fig,ax = plt.subplots(1,1)\n",
    "ax.set_xlabel('Epochs') ; ax.set_ylabel('Loss')\n",
    "\n",
    "# list of epoch numbers\n",
    "list_of_epoch = list(range(1,nb_epoch+1))\n",
    "\n",
    "train_loss = history.history['loss']\n",
    "val_loss = history.history['val_loss']\n",
    "\n",
    "ax.plot(list_of_epoch, val_loss, 'g', label=\"Validation Loss\")\n",
    "ax.plot(list_of_epoch, train_loss, 'r', label=\"Training Loss\")\n",
    "plt.legend()\n",
    "plt.grid()\n",
    "plt.show();"
   ]
  },
  {
   "cell_type": "markdown",
   "metadata": {
    "colab_type": "text",
    "id": "E_ZBDWl-M11h"
   },
   "source": [
    "### Changing the dropout rate to 0.8"
   ]
  },
  {
   "cell_type": "code",
   "execution_count": 16,
   "metadata": {
    "colab": {
     "base_uri": "https://localhost:8080/",
     "height": 554
    },
    "colab_type": "code",
    "id": "mC-ZhNxWM5m8",
    "outputId": "7197ca29-0fa2-48b9-c868-5aadc312f162"
   },
   "outputs": [
    {
     "name": "stdout",
     "output_type": "stream",
     "text": [
      "_________________________________________________________________\n",
      "Layer (type)                 Output Shape              Param #   \n",
      "=================================================================\n",
      "conv2d_7 (Conv2D)            (None, 24, 24, 32)        832       \n",
      "_________________________________________________________________\n",
      "conv2d_8 (Conv2D)            (None, 20, 20, 64)        51264     \n",
      "_________________________________________________________________\n",
      "max_pooling2d_5 (MaxPooling2 (None, 10, 10, 64)        0         \n",
      "_________________________________________________________________\n",
      "dropout_7 (Dropout)          (None, 10, 10, 64)        0         \n",
      "_________________________________________________________________\n",
      "conv2d_9 (Conv2D)            (None, 6, 6, 128)         204928    \n",
      "_________________________________________________________________\n",
      "batch_normalization_3 (Batch (None, 6, 6, 128)         512       \n",
      "_________________________________________________________________\n",
      "max_pooling2d_6 (MaxPooling2 (None, 3, 3, 128)         0         \n",
      "_________________________________________________________________\n",
      "dropout_8 (Dropout)          (None, 3, 3, 128)         0         \n",
      "_________________________________________________________________\n",
      "flatten_3 (Flatten)          (None, 1152)              0         \n",
      "_________________________________________________________________\n",
      "dense_5 (Dense)              (None, 256)               295168    \n",
      "_________________________________________________________________\n",
      "dropout_9 (Dropout)          (None, 256)               0         \n",
      "_________________________________________________________________\n",
      "dense_6 (Dense)              (None, 10)                2570      \n",
      "=================================================================\n",
      "Total params: 555,274\n",
      "Trainable params: 555,018\n",
      "Non-trainable params: 256\n",
      "_________________________________________________________________\n",
      "None\n"
     ]
    }
   ],
   "source": [
    "model2=Sequential() # Initializing the model\n",
    "\n",
    "# First ConvNet\n",
    "model2.add(Conv2D(32,kernel_size=(5,5),\n",
    "                    activation='relu',\n",
    "                    input_shape=input_shape))\n",
    "\n",
    "model2.add(Conv2D(64,kernel_size=(5,5),\n",
    "                    activation='relu'))\n",
    "\n",
    "\n",
    "model2.add(MaxPooling2D(pool_size=(2,2)))\n",
    "model2.add(Dropout(0.8))\n",
    "\n",
    "model2.add(Conv2D(128,kernel_size=(5,5),\n",
    "                   activation='relu'))\n",
    "\n",
    "model2.add(BatchNormalization())\n",
    "\n",
    "model2.add(MaxPooling2D(pool_size=(2,2)))\n",
    "\n",
    "model2.add(Dropout(0.8))\n",
    "\n",
    "\n",
    "model2.add(Flatten())\n",
    "\n",
    "#hidden layer\n",
    "model2.add(Dense(256,activation='relu',kernel_initializer='random_uniform'))\n",
    "\n",
    "model2.add(Dropout(0.8))\n",
    "\n",
    "model2.add(Dense(num_classes,activation='softmax'))\n",
    "\n",
    "print(model2.summary())"
   ]
  },
  {
   "cell_type": "code",
   "execution_count": 0,
   "metadata": {
    "colab": {},
    "colab_type": "code",
    "id": "g169wIG_M5nG"
   },
   "outputs": [],
   "source": [
    "model2.compile(optimizer='adam', \n",
    "               loss='categorical_crossentropy',\n",
    "               metrics=['accuracy'])\n"
   ]
  },
  {
   "cell_type": "code",
   "execution_count": 18,
   "metadata": {
    "colab": {
     "base_uri": "https://localhost:8080/",
     "height": 370
    },
    "colab_type": "code",
    "id": "NDLvZcs-M5nL",
    "outputId": "a983a076-5a75-465f-8ee2-4b3d148bfd86"
   },
   "outputs": [
    {
     "name": "stdout",
     "output_type": "stream",
     "text": [
      "Train on 60000 samples, validate on 10000 samples\n",
      "Epoch 1/10\n",
      "60000/60000 [==============================] - 6s 105us/step - loss: 1.8169 - acc: 0.4157 - val_loss: 0.5503 - val_acc: 0.8798\n",
      "Epoch 2/10\n",
      "60000/60000 [==============================] - 6s 93us/step - loss: 0.5645 - acc: 0.8215 - val_loss: 0.2282 - val_acc: 0.9436\n",
      "Epoch 3/10\n",
      "60000/60000 [==============================] - 6s 93us/step - loss: 0.3365 - acc: 0.9025 - val_loss: 0.1625 - val_acc: 0.9603\n",
      "Epoch 4/10\n",
      "60000/60000 [==============================] - 6s 93us/step - loss: 0.2745 - acc: 0.9228 - val_loss: 0.1237 - val_acc: 0.9716\n",
      "Epoch 5/10\n",
      "60000/60000 [==============================] - 6s 93us/step - loss: 0.2445 - acc: 0.9322 - val_loss: 0.0809 - val_acc: 0.9812\n",
      "Epoch 6/10\n",
      "60000/60000 [==============================] - 6s 93us/step - loss: 0.2217 - acc: 0.9383 - val_loss: 0.0723 - val_acc: 0.9832\n",
      "Epoch 7/10\n",
      "60000/60000 [==============================] - 6s 93us/step - loss: 0.2086 - acc: 0.9431 - val_loss: 0.0725 - val_acc: 0.9832\n",
      "Epoch 8/10\n",
      "60000/60000 [==============================] - 6s 93us/step - loss: 0.1941 - acc: 0.9473 - val_loss: 0.0918 - val_acc: 0.9795\n",
      "Epoch 9/10\n",
      "60000/60000 [==============================] - 6s 92us/step - loss: 0.1857 - acc: 0.9491 - val_loss: 0.0668 - val_acc: 0.9845\n",
      "Epoch 10/10\n",
      "60000/60000 [==============================] - 6s 92us/step - loss: 0.1766 - acc: 0.9521 - val_loss: 0.0644 - val_acc: 0.9845\n"
     ]
    }
   ],
   "source": [
    "# Training the model\n",
    "history = model2.fit(X_train, y_train, batch_size = batch_size, epochs=nb_epoch, verbose=1, validation_data=(X_test, y_test))"
   ]
  },
  {
   "cell_type": "code",
   "execution_count": 19,
   "metadata": {
    "colab": {
     "base_uri": "https://localhost:8080/",
     "height": 67
    },
    "colab_type": "code",
    "id": "V5VWMyWcM5nR",
    "outputId": "a49dbd61-4245-44eb-b1a9-9455ac2e73cd"
   },
   "outputs": [
    {
     "name": "stdout",
     "output_type": "stream",
     "text": [
      "10000/10000 [==============================] - 1s 78us/step\n",
      "Test loss: 0.06442127133197209\n",
      "Test accuracy: 0.9845\n"
     ]
    }
   ],
   "source": [
    "score = model2.evaluate(X_test, y_test, verbose=1)\n",
    "print('Test loss:', score[0]) \n",
    "print('Test accuracy:', score[1]) "
   ]
  },
  {
   "cell_type": "code",
   "execution_count": 20,
   "metadata": {
    "colab": {
     "base_uri": "https://localhost:8080/",
     "height": 283
    },
    "colab_type": "code",
    "id": "7FKeOtYpM5nW",
    "outputId": "3729c566-6865-427c-ea9b-c88bd264ff68"
   },
   "outputs": [
    {
     "data": {
      "image/png": "[encoded data removed]",
      "text/plain": [
       "<Figure size 432x288 with 1 Axes>"
      ]
     },
     "metadata": {
      "tags": []
     },
     "output_type": "display_data"
    }
   ],
   "source": [
    "fig,ax = plt.subplots(1,1)\n",
    "ax.set_xlabel('Epochs') ; ax.set_ylabel('Loss')\n",
    "\n",
    "# list of epoch numbers\n",
    "list_of_epoch = list(range(1,nb_epoch+1))\n",
    "\n",
    "train_loss = history.history['loss']\n",
    "val_loss = history.history['val_loss']\n",
    "\n",
    "ax.plot(list_of_epoch, val_loss, 'g', label=\"Validation Loss\")\n",
    "ax.plot(list_of_epoch, train_loss, 'r', label=\"Training Loss\")\n",
    "plt.legend()\n",
    "plt.grid()\n",
    "plt.show()"
   ]
  },
  {
   "cell_type": "markdown",
   "metadata": {
    "colab_type": "text",
    "id": "GCDDCvVgPJlR"
   },
   "source": [
    "### Changing the dropout to 0.2"
   ]
  },
  {
   "cell_type": "code",
   "execution_count": 41,
   "metadata": {
    "colab": {
     "base_uri": "https://localhost:8080/",
     "height": 554
    },
    "colab_type": "code",
    "id": "FpSVnzxrPMha",
    "outputId": "b0fd64bd-7fc0-4fcc-d932-e18295fb90b0"
   },
   "outputs": [
    {
     "name": "stdout",
     "output_type": "stream",
     "text": [
      "_________________________________________________________________\n",
      "Layer (type)                 Output Shape              Param #   \n",
      "=================================================================\n",
      "conv2d_20 (Conv2D)           (None, 24, 24, 32)        832       \n",
      "_________________________________________________________________\n",
      "conv2d_21 (Conv2D)           (None, 20, 20, 64)        51264     \n",
      "_________________________________________________________________\n",
      "max_pooling2d_11 (MaxPooling (None, 10, 10, 64)        0         \n",
      "_________________________________________________________________\n",
      "dropout_16 (Dropout)         (None, 10, 10, 64)        0         \n",
      "_________________________________________________________________\n",
      "conv2d_22 (Conv2D)           (None, 6, 6, 128)         204928    \n",
      "_________________________________________________________________\n",
      "batch_normalization_6 (Batch (None, 6, 6, 128)         512       \n",
      "_________________________________________________________________\n",
      "max_pooling2d_12 (MaxPooling (None, 3, 3, 128)         0         \n",
      "_________________________________________________________________\n",
      "dropout_17 (Dropout)         (None, 3, 3, 128)         0         \n",
      "_________________________________________________________________\n",
      "flatten_8 (Flatten)          (None, 1152)              0         \n",
      "_________________________________________________________________\n",
      "dense_17 (Dense)             (None, 256)               295168    \n",
      "_________________________________________________________________\n",
      "dropout_18 (Dropout)         (None, 256)               0         \n",
      "_________________________________________________________________\n",
      "dense_18 (Dense)             (None, 10)                2570      \n",
      "=================================================================\n",
      "Total params: 555,274\n",
      "Trainable params: 555,018\n",
      "Non-trainable params: 256\n",
      "_________________________________________________________________\n",
      "None\n"
     ]
    }
   ],
   "source": [
    "model2=Sequential() # Initializing the model\n",
    "\n",
    "# First ConvNet\n",
    "model2.add(Conv2D(32,kernel_size=(5,5),\n",
    "                    activation='relu',\n",
    "                    input_shape=input_shape))\n",
    "\n",
    "model2.add(Conv2D(64,kernel_size=(5,5),\n",
    "                    activation='relu'))\n",
    "\n",
    "\n",
    "model2.add(MaxPooling2D(pool_size=(2,2)))\n",
    "model2.add(Dropout(0.2))\n",
    "\n",
    "model2.add(Conv2D(128,kernel_size=(5,5),\n",
    "                   activation='relu'))\n",
    "\n",
    "model2.add(BatchNormalization())\n",
    "\n",
    "model2.add(MaxPooling2D(pool_size=(2,2)))\n",
    "\n",
    "model2.add(Dropout(0.2))\n",
    "\n",
    "\n",
    "model2.add(Flatten())\n",
    "\n",
    "#hidden layer\n",
    "model2.add(Dense(256,activation='relu',kernel_initializer='random_uniform'))\n",
    "\n",
    "model2.add(Dropout(0.2))\n",
    "\n",
    "model2.add(Dense(num_classes,activation='softmax'))\n",
    "\n",
    "print(model2.summary())"
   ]
  },
  {
   "cell_type": "code",
   "execution_count": 0,
   "metadata": {
    "colab": {},
    "colab_type": "code",
    "id": "B0JNh5AaPMhg"
   },
   "outputs": [],
   "source": [
    "model2.compile(optimizer='adam', \n",
    "               loss='categorical_crossentropy',\n",
    "               metrics=['accuracy'])\n"
   ]
  },
  {
   "cell_type": "code",
   "execution_count": 43,
   "metadata": {
    "colab": {
     "base_uri": "https://localhost:8080/",
     "height": 370
    },
    "colab_type": "code",
    "id": "s6OAvkWmPMhn",
    "outputId": "77a7137f-c9c4-4da1-da65-988950b55312"
   },
   "outputs": [
    {
     "name": "stdout",
     "output_type": "stream",
     "text": [
      "Train on 60000 samples, validate on 10000 samples\n",
      "Epoch 1/10\n",
      "60000/60000 [==============================] - 7s 114us/step - loss: 0.1319 - acc: 0.9587 - val_loss: 0.0327 - val_acc: 0.9900\n",
      "Epoch 2/10\n",
      "60000/60000 [==============================] - 6s 92us/step - loss: 0.0476 - acc: 0.9858 - val_loss: 0.0297 - val_acc: 0.9905\n",
      "Epoch 3/10\n",
      "60000/60000 [==============================] - 6s 93us/step - loss: 0.0360 - acc: 0.9888 - val_loss: 0.0262 - val_acc: 0.9915\n",
      "Epoch 4/10\n",
      "60000/60000 [==============================] - 6s 93us/step - loss: 0.0292 - acc: 0.9910 - val_loss: 0.0312 - val_acc: 0.9907\n",
      "Epoch 5/10\n",
      "60000/60000 [==============================] - 6s 94us/step - loss: 0.0252 - acc: 0.9922 - val_loss: 0.0295 - val_acc: 0.9917\n",
      "Epoch 6/10\n",
      "60000/60000 [==============================] - 6s 93us/step - loss: 0.0211 - acc: 0.9934 - val_loss: 0.0373 - val_acc: 0.9892\n",
      "Epoch 7/10\n",
      "60000/60000 [==============================] - 6s 94us/step - loss: 0.0214 - acc: 0.9933 - val_loss: 0.0262 - val_acc: 0.9913\n",
      "Epoch 8/10\n",
      "60000/60000 [==============================] - 6s 95us/step - loss: 0.0181 - acc: 0.9944 - val_loss: 0.0254 - val_acc: 0.9925\n",
      "Epoch 9/10\n",
      "60000/60000 [==============================] - 6s 94us/step - loss: 0.0176 - acc: 0.9947 - val_loss: 0.0350 - val_acc: 0.9899\n",
      "Epoch 10/10\n",
      "60000/60000 [==============================] - 6s 94us/step - loss: 0.0158 - acc: 0.9949 - val_loss: 0.0253 - val_acc: 0.9937\n"
     ]
    }
   ],
   "source": [
    "# Training the model\n",
    "history = model2.fit(X_train, y_train, batch_size = batch_size, epochs=nb_epoch, verbose=1, validation_data=(X_test, y_test))"
   ]
  },
  {
   "cell_type": "code",
   "execution_count": 44,
   "metadata": {
    "colab": {
     "base_uri": "https://localhost:8080/",
     "height": 67
    },
    "colab_type": "code",
    "id": "GvNcLHaTPMhs",
    "outputId": "1b696cfb-dcd3-4ddb-ddca-e24ca475e022"
   },
   "outputs": [
    {
     "name": "stdout",
     "output_type": "stream",
     "text": [
      "10000/10000 [==============================] - 1s 69us/step\n",
      "Test loss: 0.025309462502247287\n",
      "Test accuracy: 0.9937\n"
     ]
    }
   ],
   "source": [
    "score = model2.evaluate(X_test, y_test, verbose=1)\n",
    "print('Test loss:', score[0]) \n",
    "print('Test accuracy:', score[1]) "
   ]
  },
  {
   "cell_type": "code",
   "execution_count": 45,
   "metadata": {
    "colab": {
     "base_uri": "https://localhost:8080/",
     "height": 283
    },
    "colab_type": "code",
    "id": "ghgiGZixPMh1",
    "outputId": "91e07d36-b4ef-4a31-d189-7af6641d3aef"
   },
   "outputs": [
    {
     "data": {
      "image/png": "[encoded data removed]",
      "text/plain": [
       "<Figure size 432x288 with 1 Axes>"
      ]
     },
     "metadata": {
      "tags": []
     },
     "output_type": "display_data"
    }
   ],
   "source": [
    "fig,ax = plt.subplots(1,1)\n",
    "ax.set_xlabel('Epochs') ; ax.set_ylabel('Loss')\n",
    "\n",
    "# list of epoch numbers\n",
    "list_of_epoch = list(range(1,nb_epoch+1))\n",
    "\n",
    "train_loss = history.history['loss']\n",
    "val_loss = history.history['val_loss']\n",
    "\n",
    "ax.plot(list_of_epoch, val_loss, 'g', label=\"Validation Loss\")\n",
    "ax.plot(list_of_epoch, train_loss, 'r', label=\"Training Loss\")\n",
    "plt.legend()\n",
    "plt.grid()\n",
    "plt.show()"
   ]
  },
  {
   "cell_type": "markdown",
   "metadata": {
    "colab_type": "text",
    "id": "B9_pTx8SD8y_"
   },
   "source": [
    "### 3 layer convolution layer with 3*3 kernel size"
   ]
  },
  {
   "cell_type": "code",
   "execution_count": 0,
   "metadata": {
    "colab": {
     "base_uri": "https://localhost:8080/",
     "height": 391
    },
    "colab_type": "code",
    "id": "9LZCvBNWD78f",
    "outputId": "d9b79a0c-9757-484a-bd69-06380b45e4b5"
   },
   "outputs": [
    {
     "name": "stdout",
     "output_type": "stream",
     "text": [
      "_________________________________________________________________\n",
      "Layer (type)                 Output Shape              Param #   \n",
      "=================================================================\n",
      "conv2d_23 (Conv2D)           (None, 26, 26, 32)        320       \n",
      "_________________________________________________________________\n",
      "max_pooling2d_14 (MaxPooling (None, 13, 13, 32)        0         \n",
      "_________________________________________________________________\n",
      "conv2d_24 (Conv2D)           (None, 11, 11, 64)        18496     \n",
      "_________________________________________________________________\n",
      "dropout_12 (Dropout)         (None, 11, 11, 64)        0         \n",
      "_________________________________________________________________\n",
      "flatten_5 (Flatten)          (None, 7744)              0         \n",
      "_________________________________________________________________\n",
      "dense_9 (Dense)              (None, 256)               1982720   \n",
      "_________________________________________________________________\n",
      "dense_10 (Dense)             (None, 10)                2570      \n",
      "=================================================================\n",
      "Total params: 2,004,106\n",
      "Trainable params: 2,004,106\n",
      "Non-trainable params: 0\n",
      "_________________________________________________________________\n",
      "None\n"
     ]
    }
   ],
   "source": [
    "model3=Sequential() # Initializing the model\n",
    "\n",
    "# First ConvNet\n",
    "model3.add(Conv2D(32,kernel_size=(3,3),\n",
    "                    activation='relu',\n",
    "                    input_shape=input_shape))\n",
    "model3.add(MaxPooling2D(pool_size=(2,2)))\n",
    "\n",
    "\n",
    "model3.add(Conv2D(64,kernel_size=(3,3),\n",
    "                    activation='relu',padding='valid'))\n",
    "\n",
    "\n",
    "model3.add(Dropout(0.5))\n",
    "\n",
    "\n",
    "#hidden_layer\n",
    "model3.add(Flatten())\n",
    "\n",
    "model3.add(Dense(256,activation='relu',kernel_initializer='random_uniform'))\n",
    "\n",
    "model3.add(Dense(num_classes,activation='softmax'))\n",
    "\n",
    "print(model3.summary())"
   ]
  },
  {
   "cell_type": "code",
   "execution_count": 0,
   "metadata": {
    "colab": {},
    "colab_type": "code",
    "id": "wuFosN2vD78k"
   },
   "outputs": [],
   "source": [
    "model3.compile(optimizer='adam', \n",
    "               loss='categorical_crossentropy',\n",
    "               metrics=['accuracy'])\n"
   ]
  },
  {
   "cell_type": "code",
   "execution_count": 0,
   "metadata": {
    "colab": {
     "base_uri": "https://localhost:8080/",
     "height": 445
    },
    "colab_type": "code",
    "id": "C89vreKJD78q",
    "outputId": "c1cd161f-b686-459d-e549-f2ea56d66be4"
   },
   "outputs": [
    {
     "name": "stdout",
     "output_type": "stream",
     "text": [
      "WARNING:tensorflow:From /usr/local/lib/python3.6/dist-packages/tensorflow/python/ops/math_ops.py:3066: to_int32 (from tensorflow.python.ops.math_ops) is deprecated and will be removed in a future version.\n",
      "Instructions for updating:\n",
      "Use tf.cast instead.\n",
      "Train on 60000 samples, validate on 10000 samples\n",
      "Epoch 1/10\n",
      "60000/60000 [==============================] - 7s 122us/step - loss: 0.1678 - acc: 0.9483 - val_loss: 0.0434 - val_acc: 0.9846\n",
      "Epoch 2/10\n",
      "60000/60000 [==============================] - 3s 57us/step - loss: 0.0512 - acc: 0.9839 - val_loss: 0.0333 - val_acc: 0.9888\n",
      "Epoch 3/10\n",
      "60000/60000 [==============================] - 3s 57us/step - loss: 0.0375 - acc: 0.9883 - val_loss: 0.0329 - val_acc: 0.9881\n",
      "Epoch 4/10\n",
      "60000/60000 [==============================] - 3s 57us/step - loss: 0.0281 - acc: 0.9910 - val_loss: 0.0313 - val_acc: 0.9896\n",
      "Epoch 5/10\n",
      "60000/60000 [==============================] - 3s 57us/step - loss: 0.0232 - acc: 0.9927 - val_loss: 0.0242 - val_acc: 0.9919\n",
      "Epoch 6/10\n",
      "60000/60000 [==============================] - 3s 58us/step - loss: 0.0194 - acc: 0.9937 - val_loss: 0.0246 - val_acc: 0.9923\n",
      "Epoch 7/10\n",
      "60000/60000 [==============================] - 3s 58us/step - loss: 0.0161 - acc: 0.9946 - val_loss: 0.0320 - val_acc: 0.9894\n",
      "Epoch 8/10\n",
      "60000/60000 [==============================] - 3s 58us/step - loss: 0.0138 - acc: 0.9955 - val_loss: 0.0296 - val_acc: 0.9910\n",
      "Epoch 9/10\n",
      "60000/60000 [==============================] - 3s 57us/step - loss: 0.0135 - acc: 0.9954 - val_loss: 0.0247 - val_acc: 0.9918\n",
      "Epoch 10/10\n",
      "60000/60000 [==============================] - 3s 57us/step - loss: 0.0115 - acc: 0.9962 - val_loss: 0.0241 - val_acc: 0.9931\n"
     ]
    }
   ],
   "source": [
    "# Training the model\n",
    "history = model3.fit(X_train, y_train, batch_size = batch_size, epochs=nb_epoch, verbose=1, validation_data=(X_test, y_test))"
   ]
  },
  {
   "cell_type": "code",
   "execution_count": 0,
   "metadata": {
    "colab": {
     "base_uri": "https://localhost:8080/",
     "height": 68
    },
    "colab_type": "code",
    "id": "vzSvbReDD78v",
    "outputId": "53db5315-fe47-4c4b-a425-bf3f133b9159"
   },
   "outputs": [
    {
     "name": "stdout",
     "output_type": "stream",
     "text": [
      "10000/10000 [==============================] - 1s 52us/step\n",
      "Test loss: 0.024075999808483902\n",
      "Test accuracy: 0.9931\n"
     ]
    }
   ],
   "source": [
    "score = model3.evaluate(X_test, y_test, verbose=1)\n",
    "print('Test loss:', score[0]) \n",
    "print('Test accuracy:', score[1]) "
   ]
  },
  {
   "cell_type": "code",
   "execution_count": 0,
   "metadata": {
    "colab": {
     "base_uri": "https://localhost:8080/",
     "height": 283
    },
    "colab_type": "code",
    "id": "q-0IGMEkD781",
    "outputId": "c9c1c6e8-3ab4-4b59-9e56-eb7d8e08658f"
   },
   "outputs": [
    {
     "data": {
      "image/png": "[encoded data removed]",
      "text/plain": [
       "<Figure size 432x288 with 1 Axes>"
      ]
     },
     "metadata": {
      "tags": []
     },
     "output_type": "display_data"
    }
   ],
   "source": [
    "fig,ax = plt.subplots(1,1)\n",
    "ax.set_xlabel('Epochs') ; ax.set_ylabel('Loss')\n",
    "\n",
    "# list of epoch numbers\n",
    "list_of_epoch = list(range(1,nb_epoch+1))\n",
    "\n",
    "train_loss = history.history['loss']\n",
    "val_loss = history.history['val_loss']\n",
    "\n",
    "ax.plot(list_of_epoch, val_loss, 'g', label=\"Validation Loss\")\n",
    "ax.plot(list_of_epoch, train_loss, 'r', label=\"Training Loss\")\n",
    "plt.legend()\n",
    "plt.grid()\n",
    "plt.show();"
   ]
  },
  {
   "cell_type": "markdown",
   "metadata": {
    "colab_type": "text",
    "id": "CVnicS-YNKGS"
   },
   "source": [
    "### Changing the dropout rate to 0.8"
   ]
  },
  {
   "cell_type": "code",
   "execution_count": 21,
   "metadata": {
    "colab": {
     "base_uri": "https://localhost:8080/",
     "height": 386
    },
    "colab_type": "code",
    "id": "iLIo9t71NNhN",
    "outputId": "d461b6e1-3dc9-4155-9e7f-bb5b453cc07b"
   },
   "outputs": [
    {
     "name": "stdout",
     "output_type": "stream",
     "text": [
      "_________________________________________________________________\n",
      "Layer (type)                 Output Shape              Param #   \n",
      "=================================================================\n",
      "conv2d_10 (Conv2D)           (None, 26, 26, 32)        320       \n",
      "_________________________________________________________________\n",
      "max_pooling2d_7 (MaxPooling2 (None, 13, 13, 32)        0         \n",
      "_________________________________________________________________\n",
      "conv2d_11 (Conv2D)           (None, 11, 11, 64)        18496     \n",
      "_________________________________________________________________\n",
      "dropout_10 (Dropout)         (None, 11, 11, 64)        0         \n",
      "_________________________________________________________________\n",
      "flatten_4 (Flatten)          (None, 7744)              0         \n",
      "_________________________________________________________________\n",
      "dense_7 (Dense)              (None, 256)               1982720   \n",
      "_________________________________________________________________\n",
      "dense_8 (Dense)              (None, 10)                2570      \n",
      "=================================================================\n",
      "Total params: 2,004,106\n",
      "Trainable params: 2,004,106\n",
      "Non-trainable params: 0\n",
      "_________________________________________________________________\n",
      "None\n"
     ]
    }
   ],
   "source": [
    "model3=Sequential() # Initializing the model\n",
    "\n",
    "# First ConvNet\n",
    "model3.add(Conv2D(32,kernel_size=(3,3),\n",
    "                    activation='relu',\n",
    "                    input_shape=input_shape))\n",
    "model3.add(MaxPooling2D(pool_size=(2,2)))\n",
    "\n",
    "\n",
    "model3.add(Conv2D(64,kernel_size=(3,3),\n",
    "                    activation='relu',padding='valid'))\n",
    "\n",
    "\n",
    "model3.add(Dropout(0.8))\n",
    "\n",
    "\n",
    "#hidden_layer\n",
    "model3.add(Flatten())\n",
    "\n",
    "model3.add(Dense(256,activation='relu',kernel_initializer='random_uniform'))\n",
    "\n",
    "model3.add(Dense(num_classes,activation='softmax'))\n",
    "\n",
    "print(model3.summary())"
   ]
  },
  {
   "cell_type": "code",
   "execution_count": 0,
   "metadata": {
    "colab": {},
    "colab_type": "code",
    "id": "nQUlgn1uNNhX"
   },
   "outputs": [],
   "source": [
    "model3.compile(optimizer='adam', \n",
    "               loss='categorical_crossentropy',\n",
    "               metrics=['accuracy'])\n"
   ]
  },
  {
   "cell_type": "code",
   "execution_count": 23,
   "metadata": {
    "colab": {
     "base_uri": "https://localhost:8080/",
     "height": 370
    },
    "colab_type": "code",
    "id": "qB0xvCTcNNhd",
    "outputId": "87cfd9a0-b79e-4d4f-a118-f7a3f07f1efc"
   },
   "outputs": [
    {
     "name": "stdout",
     "output_type": "stream",
     "text": [
      "Train on 60000 samples, validate on 10000 samples\n",
      "Epoch 1/10\n",
      "60000/60000 [==============================] - 4s 74us/step - loss: 0.2322 - acc: 0.9275 - val_loss: 0.0536 - val_acc: 0.9835\n",
      "Epoch 2/10\n",
      "60000/60000 [==============================] - 4s 60us/step - loss: 0.0900 - acc: 0.9719 - val_loss: 0.0331 - val_acc: 0.9889\n",
      "Epoch 3/10\n",
      "60000/60000 [==============================] - 4s 60us/step - loss: 0.0650 - acc: 0.9797 - val_loss: 0.0258 - val_acc: 0.9916\n",
      "Epoch 4/10\n",
      "60000/60000 [==============================] - 4s 62us/step - loss: 0.0524 - acc: 0.9832 - val_loss: 0.0245 - val_acc: 0.9905\n",
      "Epoch 5/10\n",
      "60000/60000 [==============================] - 4s 62us/step - loss: 0.0453 - acc: 0.9854 - val_loss: 0.0236 - val_acc: 0.9912\n",
      "Epoch 6/10\n",
      "60000/60000 [==============================] - 4s 62us/step - loss: 0.0401 - acc: 0.9872 - val_loss: 0.0222 - val_acc: 0.9929\n",
      "Epoch 7/10\n",
      "60000/60000 [==============================] - 4s 60us/step - loss: 0.0372 - acc: 0.9879 - val_loss: 0.0246 - val_acc: 0.9920\n",
      "Epoch 8/10\n",
      "60000/60000 [==============================] - 4s 60us/step - loss: 0.0343 - acc: 0.9887 - val_loss: 0.0233 - val_acc: 0.9931\n",
      "Epoch 9/10\n",
      "60000/60000 [==============================] - 4s 60us/step - loss: 0.0304 - acc: 0.9905 - val_loss: 0.0199 - val_acc: 0.9932\n",
      "Epoch 10/10\n",
      "60000/60000 [==============================] - 4s 61us/step - loss: 0.0302 - acc: 0.9899 - val_loss: 0.0229 - val_acc: 0.9922\n"
     ]
    }
   ],
   "source": [
    "# Training the model\n",
    "history = model3.fit(X_train, y_train, batch_size = batch_size, epochs=nb_epoch, verbose=1, validation_data=(X_test, y_test))"
   ]
  },
  {
   "cell_type": "code",
   "execution_count": 24,
   "metadata": {
    "colab": {
     "base_uri": "https://localhost:8080/",
     "height": 67
    },
    "colab_type": "code",
    "id": "J88O6b8fNNhj",
    "outputId": "fcfc2f84-15b2-4fa7-8c19-3b81173d3c3a"
   },
   "outputs": [
    {
     "name": "stdout",
     "output_type": "stream",
     "text": [
      "10000/10000 [==============================] - 1s 56us/step\n",
      "Test loss: 0.02286809604455375\n",
      "Test accuracy: 0.9922\n"
     ]
    }
   ],
   "source": [
    "score = model3.evaluate(X_test, y_test, verbose=1)\n",
    "print('Test loss:', score[0]) \n",
    "print('Test accuracy:', score[1]) "
   ]
  },
  {
   "cell_type": "code",
   "execution_count": 25,
   "metadata": {
    "colab": {
     "base_uri": "https://localhost:8080/",
     "height": 283
    },
    "colab_type": "code",
    "id": "uSiFCupzNNhp",
    "outputId": "f108f19c-4557-4c62-9e23-ed4972b01744"
   },
   "outputs": [
    {
     "data": {
      "image/png": "[encoded data removed]",
      "text/plain": [
       "<Figure size 432x288 with 1 Axes>"
      ]
     },
     "metadata": {
      "tags": []
     },
     "output_type": "display_data"
    }
   ],
   "source": [
    "fig,ax = plt.subplots(1,1)\n",
    "ax.set_xlabel('Epochs') ; ax.set_ylabel('Loss')\n",
    "\n",
    "# list of epoch numbers\n",
    "list_of_epoch = list(range(1,nb_epoch+1))\n",
    "\n",
    "train_loss = history.history['loss']\n",
    "val_loss = history.history['val_loss']\n",
    "\n",
    "ax.plot(list_of_epoch, val_loss, 'g', label=\"Validation Loss\")\n",
    "ax.plot(list_of_epoch, train_loss, 'r', label=\"Training Loss\")\n",
    "plt.legend()\n",
    "plt.grid()\n",
    "plt.show();"
   ]
  },
  {
   "cell_type": "markdown",
   "metadata": {
    "colab_type": "text",
    "id": "LViBxNOhOkyi"
   },
   "source": [
    "### Changing dropout rate to 0.2"
   ]
  },
  {
   "cell_type": "code",
   "execution_count": 36,
   "metadata": {
    "colab": {
     "base_uri": "https://localhost:8080/",
     "height": 386
    },
    "colab_type": "code",
    "id": "QCUmliRwOoHQ",
    "outputId": "ba4e9fad-1f6f-4cbb-a2e6-990b750441b5"
   },
   "outputs": [
    {
     "name": "stdout",
     "output_type": "stream",
     "text": [
      "_________________________________________________________________\n",
      "Layer (type)                 Output Shape              Param #   \n",
      "=================================================================\n",
      "conv2d_18 (Conv2D)           (None, 26, 26, 32)        320       \n",
      "_________________________________________________________________\n",
      "max_pooling2d_10 (MaxPooling (None, 13, 13, 32)        0         \n",
      "_________________________________________________________________\n",
      "conv2d_19 (Conv2D)           (None, 11, 11, 64)        18496     \n",
      "_________________________________________________________________\n",
      "dropout_15 (Dropout)         (None, 11, 11, 64)        0         \n",
      "_________________________________________________________________\n",
      "flatten_7 (Flatten)          (None, 7744)              0         \n",
      "_________________________________________________________________\n",
      "dense_15 (Dense)             (None, 256)               1982720   \n",
      "_________________________________________________________________\n",
      "dense_16 (Dense)             (None, 10)                2570      \n",
      "=================================================================\n",
      "Total params: 2,004,106\n",
      "Trainable params: 2,004,106\n",
      "Non-trainable params: 0\n",
      "_________________________________________________________________\n",
      "None\n"
     ]
    }
   ],
   "source": [
    "model3=Sequential() # Initializing the model\n",
    "\n",
    "# First ConvNet\n",
    "model3.add(Conv2D(32,kernel_size=(3,3),\n",
    "                    activation='relu',\n",
    "                    input_shape=input_shape))\n",
    "model3.add(MaxPooling2D(pool_size=(2,2)))\n",
    "\n",
    "\n",
    "model3.add(Conv2D(64,kernel_size=(3,3),\n",
    "                    activation='relu',padding='valid'))\n",
    "\n",
    "\n",
    "model3.add(Dropout(0.2))\n",
    "\n",
    "\n",
    "#hidden_layer\n",
    "model3.add(Flatten())\n",
    "\n",
    "model3.add(Dense(256,activation='relu',kernel_initializer='random_uniform'))\n",
    "\n",
    "model3.add(Dense(num_classes,activation='softmax'))\n",
    "\n",
    "print(model3.summary())"
   ]
  },
  {
   "cell_type": "code",
   "execution_count": 0,
   "metadata": {
    "colab": {},
    "colab_type": "code",
    "id": "oVBcAOf_OoHW"
   },
   "outputs": [],
   "source": [
    "model3.compile(optimizer='adam', \n",
    "               loss='categorical_crossentropy',\n",
    "               metrics=['accuracy'])\n"
   ]
  },
  {
   "cell_type": "code",
   "execution_count": 38,
   "metadata": {
    "colab": {
     "base_uri": "https://localhost:8080/",
     "height": 370
    },
    "colab_type": "code",
    "id": "G1whKu6IOoHc",
    "outputId": "f187965c-4902-4776-accd-c5b60917c560"
   },
   "outputs": [
    {
     "name": "stdout",
     "output_type": "stream",
     "text": [
      "Train on 60000 samples, validate on 10000 samples\n",
      "Epoch 1/10\n",
      "60000/60000 [==============================] - 5s 79us/step - loss: 0.1493 - acc: 0.9556 - val_loss: 0.0432 - val_acc: 0.9861\n",
      "Epoch 2/10\n",
      "60000/60000 [==============================] - 4s 61us/step - loss: 0.0424 - acc: 0.9867 - val_loss: 0.0359 - val_acc: 0.9883\n",
      "Epoch 3/10\n",
      "60000/60000 [==============================] - 4s 61us/step - loss: 0.0269 - acc: 0.9915 - val_loss: 0.0310 - val_acc: 0.9898\n",
      "Epoch 4/10\n",
      "60000/60000 [==============================] - 4s 61us/step - loss: 0.0204 - acc: 0.9933 - val_loss: 0.0377 - val_acc: 0.9876\n",
      "Epoch 5/10\n",
      "60000/60000 [==============================] - 4s 61us/step - loss: 0.0169 - acc: 0.9946 - val_loss: 0.0263 - val_acc: 0.9910\n",
      "Epoch 6/10\n",
      "60000/60000 [==============================] - 4s 61us/step - loss: 0.0113 - acc: 0.9965 - val_loss: 0.0362 - val_acc: 0.9889\n",
      "Epoch 7/10\n",
      "60000/60000 [==============================] - 4s 62us/step - loss: 0.0085 - acc: 0.9972 - val_loss: 0.0329 - val_acc: 0.9899\n",
      "Epoch 8/10\n",
      "60000/60000 [==============================] - 4s 62us/step - loss: 0.0088 - acc: 0.9970 - val_loss: 0.0290 - val_acc: 0.9910\n",
      "Epoch 9/10\n",
      "60000/60000 [==============================] - 4s 61us/step - loss: 0.0071 - acc: 0.9977 - val_loss: 0.0321 - val_acc: 0.9907\n",
      "Epoch 10/10\n",
      "60000/60000 [==============================] - 4s 62us/step - loss: 0.0061 - acc: 0.9978 - val_loss: 0.0476 - val_acc: 0.9866\n"
     ]
    }
   ],
   "source": [
    "# Training the model\n",
    "history = model3.fit(X_train, y_train, batch_size = batch_size, epochs=nb_epoch, verbose=1, validation_data=(X_test, y_test))"
   ]
  },
  {
   "cell_type": "code",
   "execution_count": 39,
   "metadata": {
    "colab": {
     "base_uri": "https://localhost:8080/",
     "height": 67
    },
    "colab_type": "code",
    "id": "BANLTzOzOoHh",
    "outputId": "8c562cbb-10fe-4117-d3a1-5909d10f694a"
   },
   "outputs": [
    {
     "name": "stdout",
     "output_type": "stream",
     "text": [
      "10000/10000 [==============================] - 1s 51us/step\n",
      "Test loss: 0.04763601563378916\n",
      "Test accuracy: 0.9866\n"
     ]
    }
   ],
   "source": [
    "score = model3.evaluate(X_test, y_test, verbose=1)\n",
    "print('Test loss:', score[0]) \n",
    "print('Test accuracy:', score[1]) "
   ]
  },
  {
   "cell_type": "code",
   "execution_count": 40,
   "metadata": {
    "colab": {
     "base_uri": "https://localhost:8080/",
     "height": 283
    },
    "colab_type": "code",
    "id": "w0RZIvEuOoHl",
    "outputId": "9c113346-7b47-4d9e-a9c3-52415b848f25"
   },
   "outputs": [
    {
     "data": {
      "image/png": "[encoded data removed]",
      "text/plain": [
       "<Figure size 432x288 with 1 Axes>"
      ]
     },
     "metadata": {
      "tags": []
     },
     "output_type": "display_data"
    }
   ],
   "source": [
    "fig,ax = plt.subplots(1,1)\n",
    "ax.set_xlabel('Epochs') ; ax.set_ylabel('Loss')\n",
    "\n",
    "# list of epoch numbers\n",
    "list_of_epoch = list(range(1,nb_epoch+1))\n",
    "\n",
    "train_loss = history.history['loss']\n",
    "val_loss = history.history['val_loss']\n",
    "\n",
    "ax.plot(list_of_epoch, val_loss, 'g', label=\"Validation Loss\")\n",
    "ax.plot(list_of_epoch, train_loss, 'r', label=\"Training Loss\")\n",
    "plt.legend()\n",
    "plt.grid()\n",
    "plt.show();"
   ]
  },
  {
   "cell_type": "markdown",
   "metadata": {
    "colab_type": "text",
    "id": "YaB0s9WHFRzc"
   },
   "source": [
    "### 5 layer convolution layer with 5*5 kernel size"
   ]
  },
  {
   "cell_type": "code",
   "execution_count": 0,
   "metadata": {
    "colab": {
     "base_uri": "https://localhost:8080/",
     "height": 527
    },
    "colab_type": "code",
    "id": "kc9VdfWaFRze",
    "outputId": "5525dc25-ea1b-45ba-9db4-ffbc1f2a2e47"
   },
   "outputs": [
    {
     "name": "stdout",
     "output_type": "stream",
     "text": [
      "_________________________________________________________________\n",
      "Layer (type)                 Output Shape              Param #   \n",
      "=================================================================\n",
      "conv2d_48 (Conv2D)           (None, 24, 24, 32)        832       \n",
      "_________________________________________________________________\n",
      "max_pooling2d_21 (MaxPooling (None, 12, 12, 32)        0         \n",
      "_________________________________________________________________\n",
      "conv2d_49 (Conv2D)           (None, 8, 8, 64)          51264     \n",
      "_________________________________________________________________\n",
      "batch_normalization_12 (Batc (None, 8, 8, 64)          256       \n",
      "_________________________________________________________________\n",
      "conv2d_50 (Conv2D)           (None, 4, 4, 128)         204928    \n",
      "_________________________________________________________________\n",
      "dropout_20 (Dropout)         (None, 4, 4, 128)         0         \n",
      "_________________________________________________________________\n",
      "flatten_7 (Flatten)          (None, 2048)              0         \n",
      "_________________________________________________________________\n",
      "dense_13 (Dense)             (None, 256)               524544    \n",
      "_________________________________________________________________\n",
      "dense_14 (Dense)             (None, 512)               131584    \n",
      "_________________________________________________________________\n",
      "dropout_21 (Dropout)         (None, 512)               0         \n",
      "_________________________________________________________________\n",
      "dense_15 (Dense)             (None, 10)                5130      \n",
      "=================================================================\n",
      "Total params: 918,538\n",
      "Trainable params: 918,410\n",
      "Non-trainable params: 128\n",
      "_________________________________________________________________\n",
      "None\n"
     ]
    }
   ],
   "source": [
    "model4=Sequential() # Initializing the model\n",
    "\n",
    "# First ConvNet\n",
    "model4.add(Conv2D(32,kernel_size=(5,5),\n",
    "                    activation='relu',\n",
    "                    input_shape=input_shape))\n",
    "model4.add(MaxPooling2D(pool_size=(2,2)))\n",
    "\n",
    "model4.add(Conv2D(64,kernel_size=(5,5),\n",
    "                    activation='relu'))\n",
    "\n",
    "model4.add(BatchNormalization())\n",
    "\n",
    "\n",
    "model4.add(Conv2D(128,kernel_size=(5,5),\n",
    "                    activation='relu'))\n",
    "model4.add(Dropout(0.5))\n",
    "\n",
    "\n",
    "\n",
    "model4.add(Flatten())\n",
    "\n",
    "#hidden_layer\n",
    "model4.add(Dense(256,activation='relu',kernel_initializer='random_uniform'))\n",
    "\n",
    "model4.add(Dense(512,activation='relu',kernel_initializer='random_uniform'))\n",
    "\n",
    "model4.add(Dropout(0.5))\n",
    "\n",
    "model4.add(Dense(num_classes,activation='softmax'))\n",
    "\n",
    "print(model4.summary())"
   ]
  },
  {
   "cell_type": "code",
   "execution_count": 0,
   "metadata": {
    "colab": {},
    "colab_type": "code",
    "id": "RHg8bGfbFRzl"
   },
   "outputs": [],
   "source": [
    "model4.compile(optimizer='adam', \n",
    "               loss='categorical_crossentropy',\n",
    "               metrics=['accuracy'])\n"
   ]
  },
  {
   "cell_type": "code",
   "execution_count": 0,
   "metadata": {
    "colab": {
     "base_uri": "https://localhost:8080/",
     "height": 374
    },
    "colab_type": "code",
    "id": "CpSbfVgzFRzo",
    "outputId": "3c6b739d-3a17-418c-9fd9-8e6714621275"
   },
   "outputs": [
    {
     "name": "stdout",
     "output_type": "stream",
     "text": [
      "Train on 60000 samples, validate on 10000 samples\n",
      "Epoch 1/10\n",
      "60000/60000 [==============================] - 5s 81us/step - loss: 0.1587 - acc: 0.9512 - val_loss: 0.0559 - val_acc: 0.9845\n",
      "Epoch 2/10\n",
      "60000/60000 [==============================] - 4s 64us/step - loss: 0.0551 - acc: 0.9844 - val_loss: 0.0496 - val_acc: 0.9872\n",
      "Epoch 3/10\n",
      "60000/60000 [==============================] - 4s 63us/step - loss: 0.0452 - acc: 0.9872 - val_loss: 0.0389 - val_acc: 0.9896\n",
      "Epoch 4/10\n",
      "60000/60000 [==============================] - 4s 65us/step - loss: 0.0374 - acc: 0.9897 - val_loss: 0.0500 - val_acc: 0.9873\n",
      "Epoch 5/10\n",
      "60000/60000 [==============================] - 4s 63us/step - loss: 0.0303 - acc: 0.9913 - val_loss: 0.0401 - val_acc: 0.9899\n",
      "Epoch 6/10\n",
      "60000/60000 [==============================] - 4s 63us/step - loss: 0.0314 - acc: 0.9915 - val_loss: 0.0388 - val_acc: 0.9897\n",
      "Epoch 7/10\n",
      "60000/60000 [==============================] - 4s 63us/step - loss: 0.0273 - acc: 0.9929 - val_loss: 0.0360 - val_acc: 0.9917\n",
      "Epoch 8/10\n",
      "60000/60000 [==============================] - 4s 64us/step - loss: 0.0249 - acc: 0.9935 - val_loss: 0.0361 - val_acc: 0.9907\n",
      "Epoch 9/10\n",
      "60000/60000 [==============================] - 4s 65us/step - loss: 0.0244 - acc: 0.9935 - val_loss: 0.0466 - val_acc: 0.9908\n",
      "Epoch 10/10\n",
      "60000/60000 [==============================] - 4s 65us/step - loss: 0.0233 - acc: 0.9940 - val_loss: 0.0464 - val_acc: 0.9905\n"
     ]
    }
   ],
   "source": [
    "# Training the model\n",
    "history = model4.fit(X_train, y_train, batch_size = batch_size, epochs=nb_epoch, verbose=1, validation_data=(X_test, y_test))"
   ]
  },
  {
   "cell_type": "code",
   "execution_count": 0,
   "metadata": {
    "colab": {
     "base_uri": "https://localhost:8080/",
     "height": 68
    },
    "colab_type": "code",
    "id": "hGo5fZzZFRzt",
    "outputId": "07518246-869e-4231-986f-e7d889e2e777"
   },
   "outputs": [
    {
     "name": "stdout",
     "output_type": "stream",
     "text": [
      "10000/10000 [==============================] - 1s 66us/step\n",
      "Test loss: 0.046396231524863836\n",
      "Test accuracy: 0.9905\n"
     ]
    }
   ],
   "source": [
    "score = model4.evaluate(X_test, y_test, verbose=1)\n",
    "print('Test loss:', score[0]) \n",
    "print('Test accuracy:', score[1]) "
   ]
  },
  {
   "cell_type": "code",
   "execution_count": 0,
   "metadata": {
    "colab": {
     "base_uri": "https://localhost:8080/",
     "height": 283
    },
    "colab_type": "code",
    "id": "1hllvlEaFRz0",
    "outputId": "728b45f9-f629-45f4-9aba-60867c04704a"
   },
   "outputs": [
    {
     "data": {
      "image/png": "[encoded data removed]",
      "text/plain": [
       "<Figure size 432x288 with 1 Axes>"
      ]
     },
     "metadata": {
      "tags": []
     },
     "output_type": "display_data"
    }
   ],
   "source": [
    "fig,ax = plt.subplots(1,1)\n",
    "ax.set_xlabel('Epochs') ; ax.set_ylabel('Loss')\n",
    "\n",
    "# list of epoch numbers\n",
    "list_of_epoch = list(range(1,nb_epoch+1))\n",
    "\n",
    "train_loss = history.history['loss']\n",
    "val_loss = history.history['val_loss']\n",
    "\n",
    "ax.plot(list_of_epoch, val_loss, 'g', label=\"Validation Loss\")\n",
    "ax.plot(list_of_epoch, train_loss, 'r', label=\"Training Loss\")\n",
    "plt.legend()\n",
    "plt.grid()\n",
    "plt.show();"
   ]
  },
  {
   "cell_type": "markdown",
   "metadata": {
    "colab_type": "text",
    "id": "t7cr4sQbNSl8"
   },
   "source": [
    "### Changing the dropout rate to 0.8"
   ]
  },
  {
   "cell_type": "code",
   "execution_count": 26,
   "metadata": {
    "colab": {
     "base_uri": "https://localhost:8080/",
     "height": 521
    },
    "colab_type": "code",
    "id": "CA--grwlNZO5",
    "outputId": "bd237562-5c36-44b2-859e-51213238f01c"
   },
   "outputs": [
    {
     "name": "stdout",
     "output_type": "stream",
     "text": [
      "_________________________________________________________________\n",
      "Layer (type)                 Output Shape              Param #   \n",
      "=================================================================\n",
      "conv2d_12 (Conv2D)           (None, 24, 24, 32)        832       \n",
      "_________________________________________________________________\n",
      "max_pooling2d_8 (MaxPooling2 (None, 12, 12, 32)        0         \n",
      "_________________________________________________________________\n",
      "conv2d_13 (Conv2D)           (None, 8, 8, 64)          51264     \n",
      "_________________________________________________________________\n",
      "batch_normalization_4 (Batch (None, 8, 8, 64)          256       \n",
      "_________________________________________________________________\n",
      "conv2d_14 (Conv2D)           (None, 4, 4, 128)         204928    \n",
      "_________________________________________________________________\n",
      "dropout_11 (Dropout)         (None, 4, 4, 128)         0         \n",
      "_________________________________________________________________\n",
      "flatten_5 (Flatten)          (None, 2048)              0         \n",
      "_________________________________________________________________\n",
      "dense_9 (Dense)              (None, 256)               524544    \n",
      "_________________________________________________________________\n",
      "dense_10 (Dense)             (None, 512)               131584    \n",
      "_________________________________________________________________\n",
      "dropout_12 (Dropout)         (None, 512)               0         \n",
      "_________________________________________________________________\n",
      "dense_11 (Dense)             (None, 10)                5130      \n",
      "=================================================================\n",
      "Total params: 918,538\n",
      "Trainable params: 918,410\n",
      "Non-trainable params: 128\n",
      "_________________________________________________________________\n",
      "None\n"
     ]
    }
   ],
   "source": [
    "model4=Sequential() # Initializing the model\n",
    "\n",
    "# First ConvNet\n",
    "model4.add(Conv2D(32,kernel_size=(5,5),\n",
    "                    activation='relu',\n",
    "                    input_shape=input_shape))\n",
    "model4.add(MaxPooling2D(pool_size=(2,2)))\n",
    "\n",
    "model4.add(Conv2D(64,kernel_size=(5,5),\n",
    "                    activation='relu'))\n",
    "\n",
    "model4.add(BatchNormalization())\n",
    "\n",
    "\n",
    "model4.add(Conv2D(128,kernel_size=(5,5),\n",
    "                    activation='relu'))\n",
    "model4.add(Dropout(0.8))\n",
    "\n",
    "\n",
    "\n",
    "model4.add(Flatten())\n",
    "\n",
    "#hidden_layer\n",
    "model4.add(Dense(256,activation='relu',kernel_initializer='random_uniform'))\n",
    "\n",
    "model4.add(Dense(512,activation='relu',kernel_initializer='random_uniform'))\n",
    "\n",
    "model4.add(Dropout(0.8))\n",
    "\n",
    "model4.add(Dense(num_classes,activation='softmax'))\n",
    "\n",
    "print(model4.summary())"
   ]
  },
  {
   "cell_type": "code",
   "execution_count": 0,
   "metadata": {
    "colab": {},
    "colab_type": "code",
    "id": "a7ejXTKTNZO9"
   },
   "outputs": [],
   "source": [
    "model4.compile(optimizer='adam', \n",
    "               loss='categorical_crossentropy',\n",
    "               metrics=['accuracy'])\n"
   ]
  },
  {
   "cell_type": "code",
   "execution_count": 28,
   "metadata": {
    "colab": {
     "base_uri": "https://localhost:8080/",
     "height": 370
    },
    "colab_type": "code",
    "id": "fvlB1IUkNZO_",
    "outputId": "a4ae8da9-4e73-4e62-cad6-0ca9ee4a6013"
   },
   "outputs": [
    {
     "name": "stdout",
     "output_type": "stream",
     "text": [
      "Train on 60000 samples, validate on 10000 samples\n",
      "Epoch 1/10\n",
      "60000/60000 [==============================] - 5s 88us/step - loss: 0.3279 - acc: 0.8987 - val_loss: 0.0602 - val_acc: 0.9834\n",
      "Epoch 2/10\n",
      "60000/60000 [==============================] - 4s 67us/step - loss: 0.0944 - acc: 0.9759 - val_loss: 0.0702 - val_acc: 0.9819\n",
      "Epoch 3/10\n",
      "60000/60000 [==============================] - 4s 67us/step - loss: 0.0758 - acc: 0.9811 - val_loss: 0.0515 - val_acc: 0.9879\n",
      "Epoch 4/10\n",
      "60000/60000 [==============================] - 4s 67us/step - loss: 0.0671 - acc: 0.9835 - val_loss: 0.0473 - val_acc: 0.9881\n",
      "Epoch 5/10\n",
      "60000/60000 [==============================] - 4s 67us/step - loss: 0.0630 - acc: 0.9849 - val_loss: 0.0375 - val_acc: 0.9904\n",
      "Epoch 6/10\n",
      "60000/60000 [==============================] - 4s 67us/step - loss: 0.0590 - acc: 0.9859 - val_loss: 0.0417 - val_acc: 0.9896\n",
      "Epoch 7/10\n",
      "60000/60000 [==============================] - 4s 67us/step - loss: 0.0543 - acc: 0.9871 - val_loss: 0.0432 - val_acc: 0.9902\n",
      "Epoch 8/10\n",
      "60000/60000 [==============================] - 4s 67us/step - loss: 0.0489 - acc: 0.9883 - val_loss: 0.0410 - val_acc: 0.9910\n",
      "Epoch 9/10\n",
      "60000/60000 [==============================] - 4s 67us/step - loss: 0.0498 - acc: 0.9889 - val_loss: 0.0393 - val_acc: 0.9905\n",
      "Epoch 10/10\n",
      "60000/60000 [==============================] - 4s 67us/step - loss: 0.0461 - acc: 0.9896 - val_loss: 0.0352 - val_acc: 0.9926\n"
     ]
    }
   ],
   "source": [
    "# Training the model\n",
    "history = model4.fit(X_train, y_train, batch_size = batch_size, epochs=nb_epoch, verbose=1, validation_data=(X_test, y_test))"
   ]
  },
  {
   "cell_type": "code",
   "execution_count": 29,
   "metadata": {
    "colab": {
     "base_uri": "https://localhost:8080/",
     "height": 67
    },
    "colab_type": "code",
    "id": "KS3OSJRvNZPD",
    "outputId": "98f347a7-a9bf-4679-9c37-7fe45303af6e"
   },
   "outputs": [
    {
     "name": "stdout",
     "output_type": "stream",
     "text": [
      "10000/10000 [==============================] - 1s 61us/step\n",
      "Test loss: 0.035173485061816334\n",
      "Test accuracy: 0.9926\n"
     ]
    }
   ],
   "source": [
    "score = model4.evaluate(X_test, y_test, verbose=1)\n",
    "print('Test loss:', score[0]) \n",
    "print('Test accuracy:', score[1]) "
   ]
  },
  {
   "cell_type": "code",
   "execution_count": 30,
   "metadata": {
    "colab": {
     "base_uri": "https://localhost:8080/",
     "height": 283
    },
    "colab_type": "code",
    "id": "gZJaTLEnNZPH",
    "outputId": "c90e3f1b-0400-47e9-c993-ec6225c07d13"
   },
   "outputs": [
    {
     "data": {
      "image/png": "[encoded data removed]",
      "text/plain": [
       "<Figure size 432x288 with 1 Axes>"
      ]
     },
     "metadata": {
      "tags": []
     },
     "output_type": "display_data"
    }
   ],
   "source": [
    "fig,ax = plt.subplots(1,1)\n",
    "ax.set_xlabel('Epochs') ; ax.set_ylabel('Loss')\n",
    "\n",
    "# list of epoch numbers\n",
    "list_of_epoch = list(range(1,nb_epoch+1))\n",
    "\n",
    "train_loss = history.history['loss']\n",
    "val_loss = history.history['val_loss']\n",
    "\n",
    "ax.plot(list_of_epoch, val_loss, 'g', label=\"Validation Loss\")\n",
    "ax.plot(list_of_epoch, train_loss, 'r', label=\"Training Loss\")\n",
    "plt.legend()\n",
    "plt.grid()\n",
    "plt.show();"
   ]
  },
  {
   "cell_type": "markdown",
   "metadata": {
    "colab_type": "text",
    "id": "DZgJ89ctOSL4"
   },
   "source": [
    "### Changing the dropout rate to 0.2"
   ]
  },
  {
   "cell_type": "code",
   "execution_count": 31,
   "metadata": {
    "colab": {
     "base_uri": "https://localhost:8080/",
     "height": 521
    },
    "colab_type": "code",
    "id": "PTI8T0T_OW-G",
    "outputId": "b31c6ad8-a690-4a99-8eed-18cc1a29ac3a"
   },
   "outputs": [
    {
     "name": "stdout",
     "output_type": "stream",
     "text": [
      "_________________________________________________________________\n",
      "Layer (type)                 Output Shape              Param #   \n",
      "=================================================================\n",
      "conv2d_15 (Conv2D)           (None, 24, 24, 32)        832       \n",
      "_________________________________________________________________\n",
      "max_pooling2d_9 (MaxPooling2 (None, 12, 12, 32)        0         \n",
      "_________________________________________________________________\n",
      "conv2d_16 (Conv2D)           (None, 8, 8, 64)          51264     \n",
      "_________________________________________________________________\n",
      "batch_normalization_5 (Batch (None, 8, 8, 64)          256       \n",
      "_________________________________________________________________\n",
      "conv2d_17 (Conv2D)           (None, 4, 4, 128)         204928    \n",
      "_________________________________________________________________\n",
      "dropout_13 (Dropout)         (None, 4, 4, 128)         0         \n",
      "_________________________________________________________________\n",
      "flatten_6 (Flatten)          (None, 2048)              0         \n",
      "_________________________________________________________________\n",
      "dense_12 (Dense)             (None, 256)               524544    \n",
      "_________________________________________________________________\n",
      "dense_13 (Dense)             (None, 512)               131584    \n",
      "_________________________________________________________________\n",
      "dropout_14 (Dropout)         (None, 512)               0         \n",
      "_________________________________________________________________\n",
      "dense_14 (Dense)             (None, 10)                5130      \n",
      "=================================================================\n",
      "Total params: 918,538\n",
      "Trainable params: 918,410\n",
      "Non-trainable params: 128\n",
      "_________________________________________________________________\n",
      "None\n"
     ]
    }
   ],
   "source": [
    "model4=Sequential() # Initializing the model\n",
    "\n",
    "# First ConvNet\n",
    "model4.add(Conv2D(32,kernel_size=(5,5),\n",
    "                    activation='relu',\n",
    "                    input_shape=input_shape))\n",
    "model4.add(MaxPooling2D(pool_size=(2,2)))\n",
    "\n",
    "model4.add(Conv2D(64,kernel_size=(5,5),\n",
    "                    activation='relu'))\n",
    "\n",
    "model4.add(BatchNormalization())\n",
    "\n",
    "\n",
    "model4.add(Conv2D(128,kernel_size=(5,5),\n",
    "                    activation='relu'))\n",
    "model4.add(Dropout(0.2))\n",
    "\n",
    "\n",
    "\n",
    "model4.add(Flatten())\n",
    "\n",
    "#hidden_layer\n",
    "model4.add(Dense(256,activation='relu',kernel_initializer='random_uniform'))\n",
    "\n",
    "model4.add(Dense(512,activation='relu',kernel_initializer='random_uniform'))\n",
    "\n",
    "model4.add(Dropout(0.2))\n",
    "\n",
    "model4.add(Dense(num_classes,activation='softmax'))\n",
    "\n",
    "print(model4.summary())"
   ]
  },
  {
   "cell_type": "code",
   "execution_count": 0,
   "metadata": {
    "colab": {},
    "colab_type": "code",
    "id": "WVpKgwFYOW-O"
   },
   "outputs": [],
   "source": [
    "model4.compile(optimizer='adam', \n",
    "               loss='categorical_crossentropy',\n",
    "               metrics=['accuracy'])\n"
   ]
  },
  {
   "cell_type": "code",
   "execution_count": 33,
   "metadata": {
    "colab": {
     "base_uri": "https://localhost:8080/",
     "height": 370
    },
    "colab_type": "code",
    "id": "2lu1n6oXOW-U",
    "outputId": "09fe00e3-fb0c-46e5-b0ea-3f7b98ed3669"
   },
   "outputs": [
    {
     "name": "stdout",
     "output_type": "stream",
     "text": [
      "Train on 60000 samples, validate on 10000 samples\n",
      "Epoch 1/10\n",
      "60000/60000 [==============================] - 5s 87us/step - loss: 0.1238 - acc: 0.9626 - val_loss: 0.0574 - val_acc: 0.9834\n",
      "Epoch 2/10\n",
      "60000/60000 [==============================] - 4s 66us/step - loss: 0.0444 - acc: 0.9868 - val_loss: 0.0405 - val_acc: 0.9878\n",
      "Epoch 3/10\n",
      "60000/60000 [==============================] - 4s 66us/step - loss: 0.0348 - acc: 0.9899 - val_loss: 0.0849 - val_acc: 0.9770\n",
      "Epoch 4/10\n",
      "60000/60000 [==============================] - 4s 67us/step - loss: 0.0289 - acc: 0.9916 - val_loss: 0.0332 - val_acc: 0.9895\n",
      "Epoch 5/10\n",
      "60000/60000 [==============================] - 4s 67us/step - loss: 0.0244 - acc: 0.9929 - val_loss: 0.0664 - val_acc: 0.9841\n",
      "Epoch 6/10\n",
      "60000/60000 [==============================] - 4s 67us/step - loss: 0.0192 - acc: 0.9946 - val_loss: 0.0428 - val_acc: 0.9900\n",
      "Epoch 7/10\n",
      "60000/60000 [==============================] - 4s 67us/step - loss: 0.0197 - acc: 0.9943 - val_loss: 0.0682 - val_acc: 0.9853\n",
      "Epoch 8/10\n",
      "60000/60000 [==============================] - 4s 66us/step - loss: 0.0179 - acc: 0.9952 - val_loss: 0.0353 - val_acc: 0.9915\n",
      "Epoch 9/10\n",
      "60000/60000 [==============================] - 4s 68us/step - loss: 0.0161 - acc: 0.9955 - val_loss: 0.0338 - val_acc: 0.9935\n",
      "Epoch 10/10\n",
      "60000/60000 [==============================] - 4s 67us/step - loss: 0.0146 - acc: 0.9958 - val_loss: 0.0380 - val_acc: 0.9914\n"
     ]
    }
   ],
   "source": [
    "# Training the model\n",
    "history = model4.fit(X_train, y_train, batch_size = batch_size, epochs=nb_epoch, verbose=1, validation_data=(X_test, y_test))"
   ]
  },
  {
   "cell_type": "code",
   "execution_count": 34,
   "metadata": {
    "colab": {
     "base_uri": "https://localhost:8080/",
     "height": 67
    },
    "colab_type": "code",
    "id": "TZdWQxWeOW-a",
    "outputId": "eed17227-0def-4d45-a1f7-0f76f3f7cdee"
   },
   "outputs": [
    {
     "name": "stdout",
     "output_type": "stream",
     "text": [
      "10000/10000 [==============================] - 1s 58us/step\n",
      "Test loss: 0.03803959398596803\n",
      "Test accuracy: 0.9914\n"
     ]
    }
   ],
   "source": [
    "score = model4.evaluate(X_test, y_test, verbose=1)\n",
    "print('Test loss:', score[0]) \n",
    "print('Test accuracy:', score[1]) "
   ]
  },
  {
   "cell_type": "code",
   "execution_count": 35,
   "metadata": {
    "colab": {
     "base_uri": "https://localhost:8080/",
     "height": 283
    },
    "colab_type": "code",
    "id": "1qqkpr2tOW-h",
    "outputId": "5cf6428d-74e2-4b00-a874-6d7f788d3509"
   },
   "outputs": [
    {
     "data": {
      "image/png": "[encoded data removed]",
      "text/plain": [
       "<Figure size 432x288 with 1 Axes>"
      ]
     },
     "metadata": {
      "tags": []
     },
     "output_type": "display_data"
    }
   ],
   "source": [
    "fig,ax = plt.subplots(1,1)\n",
    "ax.set_xlabel('Epochs') ; ax.set_ylabel('Loss')\n",
    "\n",
    "# list of epoch numbers\n",
    "list_of_epoch = list(range(1,nb_epoch+1))\n",
    "\n",
    "train_loss = history.history['loss']\n",
    "val_loss = history.history['val_loss']\n",
    "\n",
    "ax.plot(list_of_epoch, val_loss, 'g', label=\"Validation Loss\")\n",
    "ax.plot(list_of_epoch, train_loss, 'r', label=\"Training Loss\")\n",
    "plt.legend()\n",
    "plt.grid()\n",
    "plt.show();"
   ]
  },
  {
   "cell_type": "markdown",
   "metadata": {
    "colab_type": "text",
    "id": "kq5FM6QStJfb"
   },
   "source": [
    "- - - "
   ]
  },
  {
   "cell_type": "markdown",
   "metadata": {
    "colab_type": "text",
    "id": "AMpRCS_sLs4T"
   },
   "source": [
    "# Conclusions"
   ]
  },
  {
   "cell_type": "code",
   "execution_count": 57,
   "metadata": {
    "colab": {
     "base_uri": "https://localhost:8080/",
     "height": 286
    },
    "colab_type": "code",
    "id": "6jl_dF0_sZGN",
    "outputId": "613994fa-f191-4de2-8f5c-a16cbd036a5d"
   },
   "outputs": [
    {
     "name": "stdout",
     "output_type": "stream",
     "text": [
      "+-----------------+-------------+-----+---------+----------+\n",
      "| Numer of Layers | Kernel Size |  BN | Dropout | Accuracy |\n",
      "+-----------------+-------------+-----+---------+----------+\n",
      "|        3        |     3*3     |  NO |   0.5   |  0.9931  |\n",
      "|        3        |     3*3     |  NO |   0.8   |  0.9922  |\n",
      "|        3        |     3*3     |  NO |   0.2   |  0.9866  |\n",
      "|        4        |     3*3     | YES |   0.5   |  0.9934  |\n",
      "|        4        |     3*3     | YES |   0.8   |  0.9697  |\n",
      "|        4        |     3*3     | YES |   0.2   |  0.9802  |\n",
      "|        4        |     5*5     | YES |   0.5   |  0.9931  |\n",
      "|        4        |     5*5     | YES |   0.8   |  0.9845  |\n",
      "|        4        |     5*5     | YES |   0.2   |  0.9937  |\n",
      "|        5        |     5*5     | YES |   0.5   |  0.9905  |\n",
      "|        5        |     5*5     | YES |   0.8   |  0.9926  |\n",
      "|        5        |     5*5     | YES |   0.2   |  0.9914  |\n",
      "+-----------------+-------------+-----+---------+----------+\n"
     ]
    }
   ],
   "source": [
    "# Please compare all your models using Prettytable library\n",
    "from prettytable import PrettyTable\n",
    "    \n",
    "x = PrettyTable()\n",
    "\n",
    "x.field_names = [\"Numer of Layers\", \"Kernel Size\", \"BN\", \"Dropout\", \"Accuracy\"]\n",
    "\n",
    "x.add_row([\"3\",'3*3', 'NO','0.5', 0.9931])\n",
    "x.add_row([\"3\",'3*3', 'NO','0.8', 0.9922])\n",
    "x.add_row([\"3\",'3*3', 'NO','0.2', 0.9866])\n",
    "\n",
    "\n",
    "x.add_row([\"4\",'3*3', 'YES','0.5', 0.9934])\n",
    "x.add_row([\"4\",'3*3', 'YES','0.8', 0.9697])\n",
    "x.add_row([\"4\",'3*3', 'YES','0.2', 0.9802])\n",
    "\n",
    "x.add_row([\"4\",'5*5', 'YES','0.5', 0.9931])\n",
    "x.add_row([\"4\",'5*5', 'YES','0.8', 0.9845])\n",
    "x.add_row([\"4\",'5*5', 'YES','0.2', 0.9937])\n",
    "\n",
    "x.add_row([\"5\",'5*5', 'YES','0.5', 0.9905])\n",
    "x.add_row([\"5\",'5*5', 'YES','0.8', 0.9926])\n",
    "x.add_row([\"5\",'5*5', 'YES','0.2', 0.9914])\n",
    "\n",
    "\n",
    "\n",
    "print(x)"
   ]
  },
  {
   "cell_type": "code",
   "execution_count": 0,
   "metadata": {
    "colab": {},
    "colab_type": "code",
    "id": "qr53MUCSDimg"
   },
   "outputs": [],
   "source": []
  },
  {
   "cell_type": "code",
   "execution_count": 0,
   "metadata": {
    "colab": {},
    "colab_type": "code",
    "id": "-dNfCxM_Dij4"
   },
   "outputs": [],
   "source": []
  },
  {
   "cell_type": "code",
   "execution_count": 0,
   "metadata": {
    "colab": {},
    "colab_type": "code",
    "id": "Ez-L2qpODihS"
   },
   "outputs": [],
   "source": []
  },
  {
   "cell_type": "code",
   "execution_count": 0,
   "metadata": {
    "colab": {},
    "colab_type": "code",
    "id": "krG4vo1eDief"
   },
   "outputs": [],
   "source": []
  },
  {
   "cell_type": "code",
   "execution_count": 0,
   "metadata": {
    "colab": {},
    "colab_type": "code",
    "id": "jvgNsn_TDibv"
   },
   "outputs": [],
   "source": []
  },
  {
   "cell_type": "code",
   "execution_count": 0,
   "metadata": {
    "colab": {},
    "colab_type": "code",
    "id": "1n5-phGwDiZN"
   },
   "outputs": [],
   "source": []
  },
  {
   "cell_type": "code",
   "execution_count": 0,
   "metadata": {
    "colab": {},
    "colab_type": "code",
    "id": "OVj1hzVLDiWw"
   },
   "outputs": [],
   "source": []
  },
  {
   "cell_type": "code",
   "execution_count": 0,
   "metadata": {
    "colab": {},
    "colab_type": "code",
    "id": "6fjzGERlDiO6"
   },
   "outputs": [],
   "source": []
  }
 ],
 "metadata": {
  "accelerator": "GPU",
  "colab": {
   "collapsed_sections": [],
   "name": "A#13.ipynb",
   "provenance": [],
   "version": "0.3.2"
  },
  "kernelspec": {
   "display_name": "Python 3",
   "language": "python",
   "name": "python3"
  },
  "language_info": {
   "codemirror_mode": {
    "name": "ipython",
    "version": 3
   },
   "file_extension": ".py",
   "mimetype": "text/x-python",
   "name": "python",
   "nbconvert_exporter": "python",
   "pygments_lexer": "ipython3",
   "version": "3.6.5"
  }
 },
 "nbformat": 4,
 "nbformat_minor": 1
}
